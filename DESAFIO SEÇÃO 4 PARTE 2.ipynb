{
 "cells": [
  {
   "cell_type": "code",
   "execution_count": 1,
   "id": "4f76ce99-277d-4cde-9f3b-ad34dd3a768e",
   "metadata": {},
   "outputs": [],
   "source": [
    "#9 Escreva um programa que leia um número inteiro digitado pelo usuário e retorne a sua tabuada​"
   ]
  },
  {
   "cell_type": "code",
   "execution_count": 3,
   "id": "f72b85f0-a725-4e9d-8e52-15e748aa1910",
   "metadata": {},
   "outputs": [
    {
     "name": "stdin",
     "output_type": "stream",
     "text": [
      "Informe o numero que deseja saber a tabuada: 7\n"
     ]
    }
   ],
   "source": [
    "valor = int(input('Informe o numero que deseja saber a tabuada:'))"
   ]
  },
  {
   "cell_type": "code",
   "execution_count": 5,
   "id": "e7af0e0d-2c03-4cf6-9016-97d2342d92be",
   "metadata": {},
   "outputs": [],
   "source": [
    "contador = 1"
   ]
  },
  {
   "cell_type": "code",
   "execution_count": 7,
   "id": "b28d04d4-734e-48d4-ab6e-06498419058f",
   "metadata": {},
   "outputs": [
    {
     "name": "stdout",
     "output_type": "stream",
     "text": [
      "7 x 1 = 7\n",
      "7 x 2 = 14\n",
      "7 x 3 = 21\n",
      "7 x 4 = 28\n",
      "7 x 5 = 35\n",
      "7 x 6 = 42\n",
      "7 x 7 = 49\n",
      "7 x 8 = 56\n",
      "7 x 9 = 63\n",
      "7 x 10 = 70\n"
     ]
    }
   ],
   "source": [
    "while contador <= 10 :\n",
    "    print(f'{valor} x {contador} = {valor*contador}')\n",
    "    contador = contador+1"
   ]
  },
  {
   "cell_type": "code",
   "execution_count": 9,
   "id": "d9b663e3-572b-4c0e-980b-29463013319e",
   "metadata": {},
   "outputs": [],
   "source": [
    "#10 Faça um programa que leia a largura e a altura de uma parede em metros, calcule a sua área e a quantidade de tinta necessária para pintá-la, sabendo que cada litro de tinta pinta uma área de 2 metros quadrados.​"
   ]
  },
  {
   "cell_type": "code",
   "execution_count": 11,
   "id": "43e17483-2c38-4c32-8761-95dfcbd5de03",
   "metadata": {},
   "outputs": [
    {
     "name": "stdin",
     "output_type": "stream",
     "text": [
      "Informe a largura em metros da parede: 3.5\n"
     ]
    }
   ],
   "source": [
    "largura = float(input('Informe a largura em metros da parede:'))"
   ]
  },
  {
   "cell_type": "code",
   "execution_count": 13,
   "id": "9b271cfa-8c3b-43a5-a01c-3068cfe62c62",
   "metadata": {},
   "outputs": [
    {
     "name": "stdin",
     "output_type": "stream",
     "text": [
      "Informe a altura em metros da parede: 4\n"
     ]
    }
   ],
   "source": [
    "altura = float(input('Informe a altura em metros da parede:'))"
   ]
  },
  {
   "cell_type": "code",
   "execution_count": 17,
   "id": "e18dff12-b3b2-47d2-b948-77467174c676",
   "metadata": {},
   "outputs": [
    {
     "name": "stdout",
     "output_type": "stream",
     "text": [
      "A area da parede é 14.0 metros quadrados. Voce precisara de 7.0 litros de tinta para pintar a parede\n"
     ]
    }
   ],
   "source": [
    "print(f'A area da parede é {altura*largura} metros quadrados. Voce precisara de {(altura*largura)/2} litros de tinta para pintar a parede')"
   ]
  },
  {
   "cell_type": "code",
   "execution_count": null,
   "id": "88b8bfbc-ab60-4fca-b8c6-9c55da324352",
   "metadata": {},
   "outputs": [],
   "source": []
  }
 ],
 "metadata": {
  "kernelspec": {
   "display_name": "Python 3 (ipykernel)",
   "language": "python",
   "name": "python3"
  },
  "language_info": {
   "codemirror_mode": {
    "name": "ipython",
    "version": 3
   },
   "file_extension": ".py",
   "mimetype": "text/x-python",
   "name": "python",
   "nbconvert_exporter": "python",
   "pygments_lexer": "ipython3",
   "version": "3.11.7"
  }
 },
 "nbformat": 4,
 "nbformat_minor": 5
}
