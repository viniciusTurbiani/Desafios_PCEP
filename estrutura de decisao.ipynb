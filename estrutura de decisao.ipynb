{
 "cells": [
  {
   "cell_type": "code",
   "execution_count": 3,
   "id": "92916a0c-45ea-4114-9a9a-142973dc5f82",
   "metadata": {},
   "outputs": [],
   "source": [
    "#Escreva um programa que pergunte a quantidade de Km percorridos por um carro alugado, a quantidade de dias pelos quais ele foi alugado e se o cliente faz parte do programa de fidelidade da loja. Calcule o preço a pagar, sabendo que o carro custa R$ 60 por dia e R$ 0,15 por Km rodado para clientes não participantes do programa de fidelidade e R$ 58 a diária mais R$0,05 por Km rodado para clientes participantes do programa de fidelidade."
   ]
  },
  {
   "cell_type": "code",
   "execution_count": 7,
   "id": "f9a32204-332e-4d7d-add6-4accfe6dbcba",
   "metadata": {},
   "outputs": [
    {
     "name": "stdin",
     "output_type": "stream",
     "text": [
      "Informe quantos KM foram percorridos: 65.8\n"
     ]
    }
   ],
   "source": [
    "kms = float(input('Informe quantos KM foram percorridos:'))"
   ]
  },
  {
   "cell_type": "code",
   "execution_count": 9,
   "id": "93f598ae-1602-48d9-9d38-cdc273c1c5d4",
   "metadata": {},
   "outputs": [
    {
     "name": "stdin",
     "output_type": "stream",
     "text": [
      "Informe por quantos dias alugou o carro: 10\n"
     ]
    }
   ],
   "source": [
    "dias = int(input('Informe por quantos dias alugou o carro:'))"
   ]
  },
  {
   "cell_type": "code",
   "execution_count": 25,
   "id": "2e1fc143-f025-4839-b13a-26b2e431866e",
   "metadata": {},
   "outputs": [
    {
     "name": "stdin",
     "output_type": "stream",
     "text": [
      "Informe se possui fidelidade, S para Sim e N para não: N\n"
     ]
    }
   ],
   "source": [
    "fidelidade = input('Informe se possui fidelidade, S para Sim e N para não:')"
   ]
  },
  {
   "cell_type": "code",
   "execution_count": 27,
   "id": "f31c2796-3806-4210-8890-07fa2cce7051",
   "metadata": {},
   "outputs": [
    {
     "name": "stdout",
     "output_type": "stream",
     "text": [
      "O preço a ser pago será 609.87\n"
     ]
    }
   ],
   "source": [
    "if fidelidade == 'S':\n",
    "    print(f'O preço a ser pago será {(dias * 58) + (kms * 0.05)}')\n",
    "else :\n",
    "    print(f'O preço a ser pago será {(dias * 60) + (kms * 0.15)}')"
   ]
  },
  {
   "cell_type": "code",
   "execution_count": 29,
   "id": "50dbb64f-2ddd-4c52-a6f5-18afef547de9",
   "metadata": {},
   "outputs": [],
   "source": [
    "#Escreva um programa que leia a velocidade de um carro. Se ele ultrapassar 80Km/h, mostre uma mensagem dizendo que ele foi multado. A multa vai custar R$7,00 por cada Km acima do limite e mais 10% caso a velocidade ultrapasse 120 km/h."
   ]
  },
  {
   "cell_type": "code",
   "execution_count": 31,
   "id": "e2270d41-756b-4269-82b2-d0c26a5c7daf",
   "metadata": {},
   "outputs": [
    {
     "name": "stdin",
     "output_type": "stream",
     "text": [
      "Qual foi a velocidade do carro? 100\n"
     ]
    }
   ],
   "source": [
    "velocidade  = int(input('Qual foi a velocidade do carro?'))"
   ]
  },
  {
   "cell_type": "code",
   "execution_count": 35,
   "id": "5458e9f3-e3f6-4c3c-985e-57ff22412065",
   "metadata": {},
   "outputs": [
    {
     "name": "stdout",
     "output_type": "stream",
     "text": [
      "A multa será de R$140\n"
     ]
    }
   ],
   "source": [
    "if velocidade > 80 :\n",
    "    print(f'A multa será de R${(velocidade-80)*7}')"
   ]
  },
  {
   "cell_type": "code",
   "execution_count": 37,
   "id": "21b54967-cc5c-474d-a595-8225677ac2af",
   "metadata": {},
   "outputs": [],
   "source": [
    "#Crie um programa que leia um número inteiro e mostre na tela se ele é PAR ou ÍMPAR.​"
   ]
  },
  {
   "cell_type": "code",
   "execution_count": 45,
   "id": "cb1b5e67-949a-4fb6-9c7b-6b6a8afb43bb",
   "metadata": {},
   "outputs": [
    {
     "name": "stdin",
     "output_type": "stream",
     "text": [
      "Informe o numero: 11\n"
     ]
    }
   ],
   "source": [
    "numero = int(input('Informe o numero:'))"
   ]
  },
  {
   "cell_type": "code",
   "execution_count": 49,
   "id": "3ba042a9-29db-4c2f-aa20-3ec74cc377d3",
   "metadata": {},
   "outputs": [
    {
     "name": "stdout",
     "output_type": "stream",
     "text": [
      "O numero 11 é impar\n"
     ]
    }
   ],
   "source": [
    "if numero % 2 == 0 :\n",
    "    print(f'O numero {numero} é par')\n",
    "else : \n",
    "    print(f'O numero {numero} é impar')"
   ]
  },
  {
   "cell_type": "code",
   "execution_count": 51,
   "id": "67cf2f97-d169-4904-b392-41821f92c959",
   "metadata": {},
   "outputs": [],
   "source": [
    "#Desenvolva um programa que pergunte a distância de uma viagem em Km. Calcule o preço da passagem, cobrando R$ 0,50 por Km para viagens de até 200Km e R$ 0,45 parta viagens mais longas.​"
   ]
  },
  {
   "cell_type": "code",
   "execution_count": 63,
   "id": "b67ec934-a877-4037-ace5-c47492d24b0b",
   "metadata": {},
   "outputs": [
    {
     "name": "stdin",
     "output_type": "stream",
     "text": [
      "Informe a distancia em KMs: 10\n"
     ]
    }
   ],
   "source": [
    "distancia = float(input('Informe a distancia em KMs:'))"
   ]
  },
  {
   "cell_type": "code",
   "execution_count": 65,
   "id": "e9426432-3b80-461e-b33a-14c69fecc39a",
   "metadata": {},
   "outputs": [
    {
     "name": "stdout",
     "output_type": "stream",
     "text": [
      "O valor da viagem será 5.0\n"
     ]
    }
   ],
   "source": [
    "if distancia > 200 :\n",
    "    print(f'O valor da viagem será {distancia * 0.45}')\n",
    "else :\n",
    "    print(f'O valor da viagem será {distancia * 0.5}')\n"
   ]
  },
  {
   "cell_type": "code",
   "execution_count": 67,
   "id": "2b4977af-e2b6-4678-952d-4357c6a1bacd",
   "metadata": {},
   "outputs": [],
   "source": [
    "#Faça um programa que leia um ano qualquer e mostre se ele é bissexto.​"
   ]
  },
  {
   "cell_type": "code",
   "execution_count": 83,
   "id": "5bca7907-8345-41fc-83bb-e7d9de44902b",
   "metadata": {},
   "outputs": [
    {
     "name": "stdin",
     "output_type": "stream",
     "text": [
      "Informe o ano que deseja saber se é bissexto: 2023\n"
     ]
    }
   ],
   "source": [
    "ano = int(input('Informe o ano que deseja saber se é bissexto:'))"
   ]
  },
  {
   "cell_type": "code",
   "execution_count": 85,
   "id": "4a76dd77-7d17-4ca2-afb2-4d3a160fdbd6",
   "metadata": {},
   "outputs": [
    {
     "name": "stdout",
     "output_type": "stream",
     "text": [
      "O ano 2023 não é bissexto\n"
     ]
    }
   ],
   "source": [
    "if ano % 4 == 0 :\n",
    "    print(f'O ano {ano} é bissexto')\n",
    "else :\n",
    "    print(f'O ano {ano} não é bissexto')"
   ]
  },
  {
   "cell_type": "code",
   "execution_count": 87,
   "id": "e894fb68-7044-4894-96bb-56c9f853f5af",
   "metadata": {},
   "outputs": [],
   "source": [
    "#Desenvolva um programa que leia o comprimento de três retas e diga ao usuário se elas podem ou não formar um triângulo."
   ]
  },
  {
   "cell_type": "code",
   "execution_count": 89,
   "id": "62a386ec-8619-48bb-947d-2d188bbc906b",
   "metadata": {},
   "outputs": [
    {
     "name": "stdin",
     "output_type": "stream",
     "text": [
      "Informe o primeiro lado: 10\n"
     ]
    }
   ],
   "source": [
    "lado1 = float(input('Informe o primeiro lado:'))"
   ]
  },
  {
   "cell_type": "code",
   "execution_count": 91,
   "id": "fcd08154-7fd9-435f-99df-99528b2b4268",
   "metadata": {},
   "outputs": [
    {
     "name": "stdin",
     "output_type": "stream",
     "text": [
      "Informe o segundo lado: 10\n"
     ]
    }
   ],
   "source": [
    "lado2 = float(input('Informe o segundo lado:'))"
   ]
  },
  {
   "cell_type": "code",
   "execution_count": 93,
   "id": "e03acd82-16b1-457d-8e8a-e8c5d164f859",
   "metadata": {},
   "outputs": [
    {
     "name": "stdin",
     "output_type": "stream",
     "text": [
      "Informe o terceirolado: 20\n"
     ]
    }
   ],
   "source": [
    "lado3 = float(input('Informe o terceirolado:'))"
   ]
  },
  {
   "cell_type": "code",
   "execution_count": 109,
   "id": "44aad6fa-806f-4b18-a7e1-7849cc56fba0",
   "metadata": {},
   "outputs": [
    {
     "name": "stdout",
     "output_type": "stream",
     "text": [
      "Os lados podem formar um triangulo!\n"
     ]
    }
   ],
   "source": [
    "if lado1 > lado2 and lado1 > lado3:\n",
    "    if lado1 > lado2 + lado3:\n",
    "        print('Os lados não podem formar um triangulo!')\n",
    "    else:\n",
    "        print('Os lados podem formar um triangulo!')\n",
    "elif lado2 > lado1 and lado2 > lado3:\n",
    "    if lado2 > lado1 + lado3:\n",
    "        print('Os lados não podem formar um triangulo!')\n",
    "    else:\n",
    "        print('Os lados podem formar um triangulo!')\n",
    "else :\n",
    "    if lado3 > lado1 + lado2:\n",
    "        print('Os lados não podem formar um triangulo!')\n",
    "    else:\n",
    "        print('Os lados podem formar um triangulo!')"
   ]
  },
  {
   "cell_type": "code",
   "execution_count": null,
   "id": "571a928c-8915-4c7b-99e8-ce24f14f7797",
   "metadata": {},
   "outputs": [],
   "source": []
  }
 ],
 "metadata": {
  "kernelspec": {
   "display_name": "Python 3 (ipykernel)",
   "language": "python",
   "name": "python3"
  },
  "language_info": {
   "codemirror_mode": {
    "name": "ipython",
    "version": 3
   },
   "file_extension": ".py",
   "mimetype": "text/x-python",
   "name": "python",
   "nbconvert_exporter": "python",
   "pygments_lexer": "ipython3",
   "version": "3.11.7"
  }
 },
 "nbformat": 4,
 "nbformat_minor": 5
}
