{
 "cells": [
  {
   "cell_type": "code",
   "execution_count": 1,
   "id": "6a6fe646-fb17-453b-812a-1797d3bc3996",
   "metadata": {},
   "outputs": [],
   "source": [
    "inteiro = 23"
   ]
  },
  {
   "cell_type": "code",
   "execution_count": 3,
   "id": "07b56137-8c81-47f4-a77c-241c78d870cc",
   "metadata": {},
   "outputs": [
    {
     "data": {
      "text/plain": [
       "int"
      ]
     },
     "execution_count": 3,
     "metadata": {},
     "output_type": "execute_result"
    }
   ],
   "source": [
    "type(inteiro)"
   ]
  },
  {
   "cell_type": "code",
   "execution_count": 5,
   "id": "60908f63-ce83-4133-93d8-39ea07cd1fa1",
   "metadata": {},
   "outputs": [],
   "source": [
    "real = 1001.23"
   ]
  },
  {
   "cell_type": "code",
   "execution_count": 7,
   "id": "1c3ae04f-a716-4b50-ba1b-60e46c32589a",
   "metadata": {},
   "outputs": [
    {
     "data": {
      "text/plain": [
       "float"
      ]
     },
     "execution_count": 7,
     "metadata": {},
     "output_type": "execute_result"
    }
   ],
   "source": [
    "type(real)"
   ]
  },
  {
   "cell_type": "code",
   "execution_count": 9,
   "id": "664c27df-b4bd-4bc8-a176-2e16fdf278e6",
   "metadata": {},
   "outputs": [],
   "source": [
    "texto = 'curso de python'"
   ]
  },
  {
   "cell_type": "code",
   "execution_count": 11,
   "id": "16ad5289-85da-4aa5-8503-221b05a26f43",
   "metadata": {},
   "outputs": [
    {
     "data": {
      "text/plain": [
       "str"
      ]
     },
     "execution_count": 11,
     "metadata": {},
     "output_type": "execute_result"
    }
   ],
   "source": [
    "type (texto)"
   ]
  },
  {
   "cell_type": "code",
   "execution_count": 13,
   "id": "7fa39656-ecb7-4ce5-a7bc-39c62a6091a8",
   "metadata": {},
   "outputs": [],
   "source": [
    "numero = '23'"
   ]
  },
  {
   "cell_type": "code",
   "execution_count": 15,
   "id": "e8f2df36-1db9-478f-93f6-d061e403b52f",
   "metadata": {},
   "outputs": [
    {
     "data": {
      "text/plain": [
       "str"
      ]
     },
     "execution_count": 15,
     "metadata": {},
     "output_type": "execute_result"
    }
   ],
   "source": [
    "type(numero)"
   ]
  },
  {
   "cell_type": "code",
   "execution_count": 17,
   "id": "ffeec69a-dbe6-43e2-9196-e8f1646bd65a",
   "metadata": {},
   "outputs": [
    {
     "data": {
      "text/plain": [
       "'2323'"
      ]
     },
     "execution_count": 17,
     "metadata": {},
     "output_type": "execute_result"
    }
   ],
   "source": [
    "numero + numero"
   ]
  },
  {
   "cell_type": "code",
   "execution_count": 19,
   "id": "6d75e3d4-827c-46ae-801a-7006413b9437",
   "metadata": {},
   "outputs": [],
   "source": [
    "booleano = True"
   ]
  },
  {
   "cell_type": "code",
   "execution_count": 21,
   "id": "ee34c524-9f87-4be7-b4a7-da317c76709c",
   "metadata": {},
   "outputs": [
    {
     "data": {
      "text/plain": [
       "bool"
      ]
     },
     "execution_count": 21,
     "metadata": {},
     "output_type": "execute_result"
    }
   ],
   "source": [
    "type(booleano)"
   ]
  },
  {
   "cell_type": "code",
   "execution_count": 23,
   "id": "29d41a5f-7a70-4d30-91f9-16b71962546c",
   "metadata": {},
   "outputs": [
    {
     "data": {
      "text/plain": [
       "True"
      ]
     },
     "execution_count": 23,
     "metadata": {},
     "output_type": "execute_result"
    }
   ],
   "source": [
    "False == 0"
   ]
  },
  {
   "cell_type": "code",
   "execution_count": 25,
   "id": "956709a7-6597-4925-99be-3b1277310c9d",
   "metadata": {},
   "outputs": [
    {
     "data": {
      "text/plain": [
       "True"
      ]
     },
     "execution_count": 25,
     "metadata": {},
     "output_type": "execute_result"
    }
   ],
   "source": [
    "True == 1"
   ]
  },
  {
   "cell_type": "code",
   "execution_count": 27,
   "id": "e7795090-15f9-46ac-87ae-555b27aece75",
   "metadata": {},
   "outputs": [
    {
     "data": {
      "text/plain": [
       "False"
      ]
     },
     "execution_count": 27,
     "metadata": {},
     "output_type": "execute_result"
    }
   ],
   "source": [
    "False == 1"
   ]
  },
  {
   "cell_type": "code",
   "execution_count": 29,
   "id": "b591adfb-e0d2-4b7c-8993-b3a357a5de2c",
   "metadata": {},
   "outputs": [
    {
     "data": {
      "text/plain": [
       "False"
      ]
     },
     "execution_count": 29,
     "metadata": {},
     "output_type": "execute_result"
    }
   ],
   "source": [
    "True == 0"
   ]
  },
  {
   "cell_type": "code",
   "execution_count": 31,
   "id": "579a9113-5c5b-41f4-a645-218a3d54a431",
   "metadata": {},
   "outputs": [],
   "source": [
    "texto1 = 'curso ''de'' python'"
   ]
  },
  {
   "cell_type": "code",
   "execution_count": 33,
   "id": "7840bb36-cdcb-4a9d-8ca3-cb8ef9129657",
   "metadata": {},
   "outputs": [
    {
     "data": {
      "text/plain": [
       "'curso de python'"
      ]
     },
     "execution_count": 33,
     "metadata": {},
     "output_type": "execute_result"
    }
   ],
   "source": [
    "texto1"
   ]
  },
  {
   "cell_type": "code",
   "execution_count": 35,
   "id": "ebb68b25-2be4-41e3-a1df-73b87e959987",
   "metadata": {},
   "outputs": [],
   "source": [
    "texto1 = 'curso \"de\" python'"
   ]
  },
  {
   "cell_type": "code",
   "execution_count": 37,
   "id": "419520ee-6575-4586-b45c-dfdc2af2c9fc",
   "metadata": {},
   "outputs": [
    {
     "data": {
      "text/plain": [
       "'curso \"de\" python'"
      ]
     },
     "execution_count": 37,
     "metadata": {},
     "output_type": "execute_result"
    }
   ],
   "source": [
    "texto1"
   ]
  },
  {
   "cell_type": "code",
   "execution_count": 39,
   "id": "c9c707ac-92ff-4dd2-b9c4-09db04a81739",
   "metadata": {},
   "outputs": [],
   "source": [
    "texto1 = 'curso \\'de\\' python'\n"
   ]
  },
  {
   "cell_type": "code",
   "execution_count": 41,
   "id": "7603bd31-7eba-4ddc-8b6c-fcd55a7bdcc6",
   "metadata": {},
   "outputs": [
    {
     "data": {
      "text/plain": [
       "\"curso 'de' python\""
      ]
     },
     "execution_count": 41,
     "metadata": {},
     "output_type": "execute_result"
    }
   ],
   "source": [
    "texto1"
   ]
  },
  {
   "cell_type": "markdown",
   "id": "e8a89cbb-2522-4a24-8bd7-e46316cd61ac",
   "metadata": {},
   "source": [
    "texto1 = '''curso de python\n",
    "teste'''\n"
   ]
  },
  {
   "cell_type": "code",
   "execution_count": 50,
   "id": "77be3033-e181-46a7-8a03-02e61bd0fe10",
   "metadata": {},
   "outputs": [],
   "source": [
    "texto1 = '''curso de python\n",
    "teste'''"
   ]
  },
  {
   "cell_type": "code",
   "execution_count": 52,
   "id": "69c4ef9a-7173-4bfa-9c5a-446d7a30cd76",
   "metadata": {},
   "outputs": [
    {
     "data": {
      "text/plain": [
       "'curso de python\\nteste'"
      ]
     },
     "execution_count": 52,
     "metadata": {},
     "output_type": "execute_result"
    }
   ],
   "source": [
    "texto1"
   ]
  },
  {
   "cell_type": "code",
   "execution_count": 54,
   "id": "6484ca42-d606-4fb2-aa22-df9763445621",
   "metadata": {},
   "outputs": [],
   "source": [
    "texto1 = '''curso de \\npython\n",
    "teste'''"
   ]
  },
  {
   "cell_type": "code",
   "execution_count": 56,
   "id": "ba344eb1-676d-4da8-8f09-c56fb85a1f9f",
   "metadata": {},
   "outputs": [
    {
     "data": {
      "text/plain": [
       "'curso de \\npython\\nteste'"
      ]
     },
     "execution_count": 56,
     "metadata": {},
     "output_type": "execute_result"
    }
   ],
   "source": [
    "texto1"
   ]
  },
  {
   "cell_type": "code",
   "execution_count": 60,
   "id": "8993e089-5e02-4563-8085-89efc82058bc",
   "metadata": {},
   "outputs": [],
   "source": [
    "caminho = 'C:\\\\treinamento\\normas'"
   ]
  },
  {
   "cell_type": "code",
   "execution_count": 62,
   "id": "93bcd724-a972-470d-ac4c-b89737e295e0",
   "metadata": {},
   "outputs": [
    {
     "data": {
      "text/plain": [
       "'C:\\\\treinamento\\normas'"
      ]
     },
     "execution_count": 62,
     "metadata": {},
     "output_type": "execute_result"
    }
   ],
   "source": [
    "caminho"
   ]
  },
  {
   "cell_type": "code",
   "execution_count": 64,
   "id": "6f8f961d-4d0d-4b4f-844b-5d3898bacdb2",
   "metadata": {},
   "outputs": [
    {
     "name": "stdout",
     "output_type": "stream",
     "text": [
      "C:\\treinamento\n",
      "ormas\n"
     ]
    }
   ],
   "source": [
    "print(caminho)"
   ]
  },
  {
   "cell_type": "code",
   "execution_count": 66,
   "id": "9e920351-3e8d-42ed-9994-29bb43a22602",
   "metadata": {},
   "outputs": [],
   "source": [
    "caminho = r'C:\\\\treinamento\\normas'"
   ]
  },
  {
   "cell_type": "code",
   "execution_count": 68,
   "id": "02273410-8ce8-4302-bd85-b966cd47d896",
   "metadata": {},
   "outputs": [
    {
     "name": "stdout",
     "output_type": "stream",
     "text": [
      "C:\\\\treinamento\\normas\n"
     ]
    }
   ],
   "source": [
    "print(caminho)"
   ]
  },
  {
   "cell_type": "code",
   "execution_count": 70,
   "id": "309ebdaf-2a6e-4b2b-9fd8-f64e93c98a07",
   "metadata": {},
   "outputs": [],
   "source": [
    "complexo = 4 + 3j"
   ]
  },
  {
   "cell_type": "code",
   "execution_count": 74,
   "id": "0cc3714f-7dce-4b21-b386-6df7b3eb8048",
   "metadata": {},
   "outputs": [
    {
     "data": {
      "text/plain": [
       "complex"
      ]
     },
     "execution_count": 74,
     "metadata": {},
     "output_type": "execute_result"
    }
   ],
   "source": [
    "type(complexo)"
   ]
  },
  {
   "cell_type": "code",
   "execution_count": 76,
   "id": "75de9e64-f01f-4b97-8f8e-1e8e9f1ca5e1",
   "metadata": {},
   "outputs": [
    {
     "data": {
      "text/plain": [
       "(4+3j)"
      ]
     },
     "execution_count": 76,
     "metadata": {},
     "output_type": "execute_result"
    }
   ],
   "source": [
    "complexo"
   ]
  },
  {
   "cell_type": "code",
   "execution_count": 78,
   "id": "ecc79174-efd0-4233-aa1f-f368b958a1db",
   "metadata": {},
   "outputs": [
    {
     "name": "stdout",
     "output_type": "stream",
     "text": [
      "(4+3j)\n"
     ]
    }
   ],
   "source": [
    "print(complexo)"
   ]
  },
  {
   "cell_type": "code",
   "execution_count": null,
   "id": "909171f4-dc0b-4989-af6b-8a5c2f391e27",
   "metadata": {},
   "outputs": [],
   "source": []
  }
 ],
 "metadata": {
  "kernelspec": {
   "display_name": "Python 3 (ipykernel)",
   "language": "python",
   "name": "python3"
  },
  "language_info": {
   "codemirror_mode": {
    "name": "ipython",
    "version": 3
   },
   "file_extension": ".py",
   "mimetype": "text/x-python",
   "name": "python",
   "nbconvert_exporter": "python",
   "pygments_lexer": "ipython3",
   "version": "3.11.7"
  }
 },
 "nbformat": 4,
 "nbformat_minor": 5
}
