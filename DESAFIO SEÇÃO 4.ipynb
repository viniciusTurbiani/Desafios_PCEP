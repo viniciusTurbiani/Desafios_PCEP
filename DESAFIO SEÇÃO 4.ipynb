{
 "cells": [
  {
   "cell_type": "code",
   "execution_count": 1,
   "id": "eadbe216-2fb5-4631-8d98-92fadb5ed369",
   "metadata": {},
   "outputs": [],
   "source": [
    "#1 Escreva um programa que leia o nome do usuário e retorne uma mensagem de boas-vindas!​"
   ]
  },
  {
   "cell_type": "code",
   "execution_count": 3,
   "id": "5b79de72-913d-4400-b5a5-8da37ceb57d9",
   "metadata": {},
   "outputs": [
    {
     "name": "stdin",
     "output_type": "stream",
     "text": [
      "Informe seu nome: Vinicius\n"
     ]
    }
   ],
   "source": [
    "nome = input('Informe seu nome:')"
   ]
  },
  {
   "cell_type": "code",
   "execution_count": 7,
   "id": "f87248f1-cb60-4adb-a8e3-f8f28a3e57b7",
   "metadata": {},
   "outputs": [
    {
     "name": "stdout",
     "output_type": "stream",
     "text": [
      "Seja bem vindo Vinicius!\n"
     ]
    }
   ],
   "source": [
    "print(f'Seja bem vindo {nome}!')"
   ]
  },
  {
   "cell_type": "code",
   "execution_count": 9,
   "id": "d614808b-8133-4817-a70a-194c7845c8f9",
   "metadata": {},
   "outputs": [],
   "source": [
    "#2 Escreva um programa que leia o ano de nascimento do usuário e retorne quantos anos ele fará em 2035​"
   ]
  },
  {
   "cell_type": "code",
   "execution_count": 21,
   "id": "b45875ef-03d9-4cc4-ba57-545089f38291",
   "metadata": {},
   "outputs": [
    {
     "name": "stdin",
     "output_type": "stream",
     "text": [
      "Informe o ano que nasceu: 2001\n"
     ]
    }
   ],
   "source": [
    "ano_nascimento = int(input('Informe o ano que nasceu:'))"
   ]
  },
  {
   "cell_type": "code",
   "execution_count": 31,
   "id": "58165dd1-9a9f-4dd2-8d75-38d4e5a94d38",
   "metadata": {},
   "outputs": [
    {
     "name": "stdin",
     "output_type": "stream",
     "text": [
      "Informe o ano em que deseja saber qual sera sua idade: 2035\n"
     ]
    }
   ],
   "source": [
    "ano = int(input('Informe o ano em que deseja saber qual sera sua idade:'))"
   ]
  },
  {
   "cell_type": "code",
   "execution_count": 33,
   "id": "11f2359d-fbb4-41df-9e1b-8301fc0bb4e1",
   "metadata": {},
   "outputs": [],
   "source": [
    "idade = ano - ano_nascimento"
   ]
  },
  {
   "cell_type": "code",
   "execution_count": 29,
   "id": "49e9eb30-7e52-4c8d-b2eb-4a50f9633949",
   "metadata": {},
   "outputs": [
    {
     "name": "stdout",
     "output_type": "stream",
     "text": [
      "Você terá 34 anos em 2035\n"
     ]
    }
   ],
   "source": [
    "print(f'Você terá {idade} anos em {ano}')"
   ]
  },
  {
   "cell_type": "code",
   "execution_count": 35,
   "id": "61172b7a-a7c3-4b1b-9ec3-2954195e4dd8",
   "metadata": {},
   "outputs": [],
   "source": [
    "#3 Escreva um programa que peça dois valores para o usuário e retorne a soma entre eles​"
   ]
  },
  {
   "cell_type": "code",
   "execution_count": 37,
   "id": "50c9d937-6590-4a39-bdaf-25e241d2b60f",
   "metadata": {},
   "outputs": [
    {
     "name": "stdin",
     "output_type": "stream",
     "text": [
      "Informe o primeiro valor: 10\n"
     ]
    }
   ],
   "source": [
    "valor1 = float(input('Informe o primeiro valor:'))"
   ]
  },
  {
   "cell_type": "code",
   "execution_count": 39,
   "id": "fb2b2755-a67f-4893-9938-d125502e35a6",
   "metadata": {},
   "outputs": [
    {
     "name": "stdin",
     "output_type": "stream",
     "text": [
      "Informe o segundo valor: 10.8\n"
     ]
    }
   ],
   "source": [
    "valor2 = float(input('Informe o segundo valor:'))"
   ]
  },
  {
   "cell_type": "code",
   "execution_count": 41,
   "id": "4a86169b-30c2-4e93-9fbd-2aca3d8fc4b4",
   "metadata": {},
   "outputs": [],
   "source": [
    "soma = valor1 + valor2"
   ]
  },
  {
   "cell_type": "code",
   "execution_count": 43,
   "id": "0dbcc477-5393-47be-a7cf-b8786ea2adb3",
   "metadata": {},
   "outputs": [
    {
     "name": "stdout",
     "output_type": "stream",
     "text": [
      "A soma de 10.0 e 10.8 é 20.8\n"
     ]
    }
   ],
   "source": [
    "print(f'A soma de {valor1} e {valor2} é {soma}')"
   ]
  },
  {
   "cell_type": "code",
   "execution_count": 45,
   "id": "ad28fa03-8ff7-4fc3-b663-d773ba325c9c",
   "metadata": {},
   "outputs": [],
   "source": [
    "#4 Escreva um programa que peça dois valores para o usuário e retorne a multiplicação entre eles​"
   ]
  },
  {
   "cell_type": "code",
   "execution_count": 47,
   "id": "6eb69256-63f4-4ef8-9611-39492a0f5d0c",
   "metadata": {},
   "outputs": [
    {
     "name": "stdin",
     "output_type": "stream",
     "text": [
      "Informe o primeiro valor: 20\n"
     ]
    }
   ],
   "source": [
    "valor1 = float(input('Informe o primeiro valor:'))"
   ]
  },
  {
   "cell_type": "code",
   "execution_count": 49,
   "id": "f6ebc01a-1c14-4da6-8c3d-6ba2b64812c2",
   "metadata": {},
   "outputs": [
    {
     "name": "stdin",
     "output_type": "stream",
     "text": [
      "Informe o segundo valor: 35.352\n"
     ]
    }
   ],
   "source": [
    "valor2 = float(input('Informe o segundo valor:'))"
   ]
  },
  {
   "cell_type": "code",
   "execution_count": 55,
   "id": "61c19d08-4c01-40f9-9dea-99d09fefe094",
   "metadata": {},
   "outputs": [],
   "source": [
    "resultado = valor1 * valor2"
   ]
  },
  {
   "cell_type": "code",
   "execution_count": 59,
   "id": "a2278e9f-d318-4a9d-ae32-327279464f79",
   "metadata": {},
   "outputs": [
    {
     "name": "stdout",
     "output_type": "stream",
     "text": [
      "A multiplicação de 20.0 por 35.352 é 707.04\n"
     ]
    }
   ],
   "source": [
    "print(f'A multiplicação de {valor1} por {valor2} é {resultado}')"
   ]
  },
  {
   "cell_type": "code",
   "execution_count": 61,
   "id": "f27ab35d-0319-495e-9546-c3e43820f165",
   "metadata": {},
   "outputs": [],
   "source": [
    "#5 Escreva um programa que leia o nome completo do usuário e retorne ele em maísculas, minúsculas, capitalizado e em formatação de título​"
   ]
  },
  {
   "cell_type": "code",
   "execution_count": 63,
   "id": "5747da25-5782-4e30-a048-4b9d316d3b15",
   "metadata": {},
   "outputs": [
    {
     "name": "stdin",
     "output_type": "stream",
     "text": [
      "Informe seu nome: Vinicius de Faria Turbiani\n"
     ]
    }
   ],
   "source": [
    "nome = input('Informe seu nome:')"
   ]
  },
  {
   "cell_type": "code",
   "execution_count": 77,
   "id": "983d1d25-2312-421a-8295-514f66d5e95c",
   "metadata": {},
   "outputs": [
    {
     "name": "stdout",
     "output_type": "stream",
     "text": [
      "Nome em maiusculas: VINICIUS DE FARIA TURBIANI\n",
      "Nome em minusculas: vinicius de faria turbiani\n",
      "Capitalizando nome: Vinicius de faria turbiani\n",
      "Nome em formatação de titulo: Vinicius De Faria Turbiani\n"
     ]
    }
   ],
   "source": [
    "print(f'Nome em maiusculas: {nome.upper()}\\nNome em minusculas: {nome.lower()}\\nCapitalizando nome: {nome.capitalize()}\\nNome em formatação de titulo: {nome.title()}')"
   ]
  },
  {
   "cell_type": "code",
   "execution_count": 79,
   "id": "6962234f-c5a0-4dd0-8242-9f1d8312fcef",
   "metadata": {},
   "outputs": [],
   "source": [
    "#6 Escreva um programa que leia um número digitado pelo usuário e retorne o seu antecessor e o seu sucessor. Vamos considerar como antecessor o número inteiro imediatamente inferior ao número digitado e como sucessor o inteiro imediatamente superior ao número digitado"
   ]
  },
  {
   "cell_type": "code",
   "execution_count": 83,
   "id": "dad40ba0-44a4-449e-9770-f04e9b9e78ff",
   "metadata": {},
   "outputs": [
    {
     "name": "stdin",
     "output_type": "stream",
     "text": [
      "Informe o valor: 6\n"
     ]
    }
   ],
   "source": [
    "valor1 = int(input('Informe o valor:'))"
   ]
  },
  {
   "cell_type": "code",
   "execution_count": 87,
   "id": "a94ff766-d206-45d5-a49f-ffd1f8330e3d",
   "metadata": {},
   "outputs": [
    {
     "name": "stdout",
     "output_type": "stream",
     "text": [
      "O sucessor de 6 é 7 e o sucessor é 5\n"
     ]
    }
   ],
   "source": [
    "print(f'O sucessor de {valor1} é {valor1+1} e o sucessor é {valor1-1}')"
   ]
  },
  {
   "cell_type": "code",
   "execution_count": 89,
   "id": "76fbad39-fa4e-4c4f-b45a-b4e72d80c974",
   "metadata": {},
   "outputs": [],
   "source": [
    "#7 Escreva um programa que leia um número e diga qual o seu dobro, triplo, quadrado, cubo e raiz quadrada​"
   ]
  },
  {
   "cell_type": "code",
   "execution_count": 93,
   "id": "7f15b563-dba7-4aca-9ca7-8594eba6be61",
   "metadata": {},
   "outputs": [
    {
     "name": "stdin",
     "output_type": "stream",
     "text": [
      "Informe o valor: 9\n"
     ]
    }
   ],
   "source": [
    "valor1 = int(input('Informe o valor:'))"
   ]
  },
  {
   "cell_type": "code",
   "execution_count": 127,
   "id": "be9ebcd6-8360-4f54-a3e0-73239844b463",
   "metadata": {},
   "outputs": [
    {
     "name": "stdout",
     "output_type": "stream",
     "text": [
      "O dobro de 9 é: 18\n",
      "O triplo de 9 é: 27\n",
      "9 ao quadrado é: 81\n",
      "9 ao cubo é: 729\n",
      "A raiz de 9 é: 3.0\n"
     ]
    }
   ],
   "source": [
    "print(f'O dobro de {valor1} é: {valor1*2}\\nO triplo de {valor1} é: {valor1*3}\\n{valor1} ao quadrado é: {valor1**2}\\n{valor1} ao cubo é: {valor1**3}\\nA raiz de {valor1} é: {valor1**0.5}')"
   ]
  },
  {
   "cell_type": "code",
   "execution_count": 129,
   "id": "22826d34-8e18-4bd6-a6f3-a7c809926405",
   "metadata": {},
   "outputs": [],
   "source": [
    "#8 Escreva um programa que leia três notas de um aluno digitados pelo usuário e retorne a média dele​"
   ]
  },
  {
   "cell_type": "code",
   "execution_count": 135,
   "id": "58800826-553b-4f05-964e-2a73e2f61003",
   "metadata": {},
   "outputs": [
    {
     "name": "stdin",
     "output_type": "stream",
     "text": [
      "Informa a primeira nota: 10\n"
     ]
    }
   ],
   "source": [
    "nota1 = float(input('Informa a primeira nota:'))"
   ]
  },
  {
   "cell_type": "code",
   "execution_count": 137,
   "id": "93d9de60-8de6-47e7-9016-3df48d9e37dd",
   "metadata": {},
   "outputs": [
    {
     "name": "stdin",
     "output_type": "stream",
     "text": [
      "Informa a segunda nota: 7.5\n"
     ]
    }
   ],
   "source": [
    "nota2 = float(input('Informa a segunda nota:'))"
   ]
  },
  {
   "cell_type": "code",
   "execution_count": 139,
   "id": "62407443-e003-4a77-bf03-588ceb0ec334",
   "metadata": {},
   "outputs": [
    {
     "name": "stdin",
     "output_type": "stream",
     "text": [
      "Informa a terceira nota: 9.5\n"
     ]
    }
   ],
   "source": [
    "nota3 = float(input('Informa a terceira nota:'))"
   ]
  },
  {
   "cell_type": "code",
   "execution_count": 141,
   "id": "14e373ba-13e3-4e23-af4d-f9a736cecfc6",
   "metadata": {},
   "outputs": [],
   "source": [
    "media = (nota1 + nota2 + nota3)/3"
   ]
  },
  {
   "cell_type": "code",
   "execution_count": null,
   "id": "d6750817-cda5-4281-92e3-1c2290c6a7b1",
   "metadata": {},
   "outputs": [],
   "source": [
    "print(f'a media do aluno é: {media}')"
   ]
  },
  {
   "cell_type": "code",
   "execution_count": null,
   "id": "1aadfeed-463d-4dbd-8b4f-cc520c8650f5",
   "metadata": {},
   "outputs": [],
   "source": [
    "#9 Escreva um programa que leia um número inteiro digitado pelo usuário e retorne a sua tabuada​"
   ]
  },
  {
   "cell_type": "code",
   "execution_count": null,
   "id": "e30e0d12-328a-4391-8409-eaec4893f360",
   "metadata": {},
   "outputs": [],
   "source": [
    "valor = int(input('Informe o numero que deseja saber a tabuada:'))"
   ]
  },
  {
   "cell_type": "code",
   "execution_count": null,
   "id": "f6b68029-859b-45a3-bb91-7cb1ccb980f4",
   "metadata": {},
   "outputs": [],
   "source": [
    "contador = 1"
   ]
  },
  {
   "cell_type": "code",
   "execution_count": null,
   "id": "8a4c267f-ef68-4a35-a7c5-752de12c1229",
   "metadata": {},
   "outputs": [],
   "source": [
    "while contador <= 10 :\n",
    "    print(f'{valor} x {contador} = {valor*contador}')\n",
    "    contador = contador+1"
   ]
  },
  {
   "cell_type": "code",
   "execution_count": null,
   "id": "5f04f19b-2dd4-4754-8400-3689d0ce090d",
   "metadata": {},
   "outputs": [],
   "source": []
  }
 ],
 "metadata": {
  "kernelspec": {
   "display_name": "Python 3 (ipykernel)",
   "language": "python",
   "name": "python3"
  },
  "language_info": {
   "codemirror_mode": {
    "name": "ipython",
    "version": 3
   },
   "file_extension": ".py",
   "mimetype": "text/x-python",
   "name": "python",
   "nbconvert_exporter": "python",
   "pygments_lexer": "ipython3",
   "version": "3.11.7"
  }
 },
 "nbformat": 4,
 "nbformat_minor": 5
}
