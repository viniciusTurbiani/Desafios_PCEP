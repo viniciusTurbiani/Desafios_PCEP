{
 "cells": [
  {
   "cell_type": "markdown",
   "id": "c4537894-5e39-48bc-a548-4fba1f7f5c7b",
   "metadata": {},
   "source": [
    "# Variavel é um espaço na memoria para guardar dados"
   ]
  },
  {
   "cell_type": "code",
   "execution_count": 5,
   "id": "2105aa6d-35e6-4b28-b61c-f4d53275db25",
   "metadata": {},
   "outputs": [],
   "source": [
    "a = 1"
   ]
  },
  {
   "cell_type": "code",
   "execution_count": 7,
   "id": "3118c403-5e25-46b9-93b2-cc01b4592e49",
   "metadata": {},
   "outputs": [
    {
     "data": {
      "text/plain": [
       "1"
      ]
     },
     "execution_count": 7,
     "metadata": {},
     "output_type": "execute_result"
    }
   ],
   "source": [
    "a"
   ]
  },
  {
   "cell_type": "code",
   "execution_count": 13,
   "id": "b22655a8-7e32-48de-b4d8-1de438d27386",
   "metadata": {},
   "outputs": [],
   "source": [
    "b = 2"
   ]
  },
  {
   "cell_type": "code",
   "execution_count": 15,
   "id": "7631765d-c148-4d9c-a262-4911aa6863ee",
   "metadata": {},
   "outputs": [
    {
     "data": {
      "text/plain": [
       "2"
      ]
     },
     "execution_count": 15,
     "metadata": {},
     "output_type": "execute_result"
    }
   ],
   "source": [
    "b"
   ]
  },
  {
   "cell_type": "code",
   "execution_count": 17,
   "id": "39d1430d-27aa-4fde-b282-15998231f195",
   "metadata": {
    "scrolled": true
   },
   "outputs": [
    {
     "data": {
      "text/plain": [
       "3"
      ]
     },
     "execution_count": 17,
     "metadata": {},
     "output_type": "execute_result"
    }
   ],
   "source": [
    "a + b"
   ]
  },
  {
   "cell_type": "code",
   "execution_count": 19,
   "id": "83f44eab-b81b-43c2-9bd4-67532415002d",
   "metadata": {},
   "outputs": [],
   "source": [
    "texto = \"todo texto é uma string\""
   ]
  },
  {
   "cell_type": "code",
   "execution_count": 21,
   "id": "605587fe-b176-485c-9ec6-62733d1cdb0f",
   "metadata": {},
   "outputs": [
    {
     "data": {
      "text/plain": [
       "'todo texto é uma string'"
      ]
     },
     "execution_count": 21,
     "metadata": {},
     "output_type": "execute_result"
    }
   ],
   "source": [
    "texto"
   ]
  },
  {
   "cell_type": "code",
   "execution_count": 23,
   "id": "2ca0a315-3d0e-42e5-865c-6daf5ea59611",
   "metadata": {},
   "outputs": [],
   "source": [
    "texto2 = 'Todo texto é uma strin'"
   ]
  },
  {
   "cell_type": "code",
   "execution_count": 25,
   "id": "dfcbf1aa-8eff-4db3-af2f-bd28deeadb5e",
   "metadata": {},
   "outputs": [
    {
     "data": {
      "text/plain": [
       "'Todo texto é uma strin'"
      ]
     },
     "execution_count": 25,
     "metadata": {},
     "output_type": "execute_result"
    }
   ],
   "source": [
    "texto2"
   ]
  },
  {
   "cell_type": "code",
   "execution_count": 27,
   "id": "e689ce7b-a5b9-4ab7-b064-a27233839cdf",
   "metadata": {},
   "outputs": [
    {
     "data": {
      "text/plain": [
       "int"
      ]
     },
     "execution_count": 27,
     "metadata": {},
     "output_type": "execute_result"
    }
   ],
   "source": [
    "type(a)"
   ]
  },
  {
   "cell_type": "code",
   "execution_count": 29,
   "id": "b72261f1-7a61-4d1d-aa33-5f66a4dde093",
   "metadata": {},
   "outputs": [
    {
     "data": {
      "text/plain": [
       "str"
      ]
     },
     "execution_count": 29,
     "metadata": {},
     "output_type": "execute_result"
    }
   ],
   "source": [
    "type(texto)"
   ]
  },
  {
   "cell_type": "code",
   "execution_count": 31,
   "id": "2f392276-0d4f-4f81-b1ea-cc00027aa3bb",
   "metadata": {},
   "outputs": [],
   "source": [
    "decimal = 1.0923"
   ]
  },
  {
   "cell_type": "code",
   "execution_count": 33,
   "id": "698f10b8-f68b-4152-8c85-c7ad25b28992",
   "metadata": {},
   "outputs": [
    {
     "data": {
      "text/plain": [
       "1.0923"
      ]
     },
     "execution_count": 33,
     "metadata": {},
     "output_type": "execute_result"
    }
   ],
   "source": [
    "decimal"
   ]
  },
  {
   "cell_type": "code",
   "execution_count": 35,
   "id": "5b938dfc-c83d-4421-a59e-bac0f1af63fa",
   "metadata": {},
   "outputs": [
    {
     "data": {
      "text/plain": [
       "float"
      ]
     },
     "execution_count": 35,
     "metadata": {},
     "output_type": "execute_result"
    }
   ],
   "source": [
    "type(decimal)"
   ]
  },
  {
   "cell_type": "code",
   "execution_count": 37,
   "id": "9411f658-d724-4fa3-91af-fffd076ed72d",
   "metadata": {},
   "outputs": [
    {
     "data": {
      "text/plain": [
       "False"
      ]
     },
     "execution_count": 37,
     "metadata": {},
     "output_type": "execute_result"
    }
   ],
   "source": [
    "a == 2"
   ]
  },
  {
   "cell_type": "code",
   "execution_count": 39,
   "id": "069c780a-9fdb-4767-b59f-4a819605aa26",
   "metadata": {},
   "outputs": [
    {
     "data": {
      "text/plain": [
       "True"
      ]
     },
     "execution_count": 39,
     "metadata": {},
     "output_type": "execute_result"
    }
   ],
   "source": [
    "a == 1"
   ]
  },
  {
   "cell_type": "code",
   "execution_count": 41,
   "id": "2b6e59df-b5aa-4218-b9e9-4f683f29d0a0",
   "metadata": {},
   "outputs": [
    {
     "data": {
      "text/plain": [
       "True"
      ]
     },
     "execution_count": 41,
     "metadata": {},
     "output_type": "execute_result"
    }
   ],
   "source": [
    "b == 2"
   ]
  },
  {
   "cell_type": "code",
   "execution_count": 43,
   "id": "4ee5d853-ec9c-4d45-b09d-98b355ddc147",
   "metadata": {},
   "outputs": [],
   "source": [
    "A1=2"
   ]
  },
  {
   "cell_type": "code",
   "execution_count": 45,
   "id": "54c54829-f504-4e79-b494-3c35a3a65d57",
   "metadata": {},
   "outputs": [
    {
     "data": {
      "text/plain": [
       "2"
      ]
     },
     "execution_count": 45,
     "metadata": {},
     "output_type": "execute_result"
    }
   ],
   "source": [
    "A1"
   ]
  },
  {
   "cell_type": "code",
   "execution_count": 47,
   "id": "ad5cbb13-0198-4183-b657-315c7e371c15",
   "metadata": {},
   "outputs": [],
   "source": [
    "_A1 = 2"
   ]
  },
  {
   "cell_type": "code",
   "execution_count": 49,
   "id": "a1e56e68-151a-4cdb-a019-b58ed0c9fec2",
   "metadata": {},
   "outputs": [
    {
     "data": {
      "text/plain": [
       "2"
      ]
     },
     "execution_count": 49,
     "metadata": {},
     "output_type": "execute_result"
    }
   ],
   "source": [
    "_A1"
   ]
  },
  {
   "cell_type": "code",
   "execution_count": null,
   "id": "9eb43683-408f-4edd-9789-6cd7f4d005a2",
   "metadata": {},
   "outputs": [],
   "source": []
  }
 ],
 "metadata": {
  "kernelspec": {
   "display_name": "Python 3 (ipykernel)",
   "language": "python",
   "name": "python3"
  },
  "language_info": {
   "codemirror_mode": {
    "name": "ipython",
    "version": 3
   },
   "file_extension": ".py",
   "mimetype": "text/x-python",
   "name": "python",
   "nbconvert_exporter": "python",
   "pygments_lexer": "ipython3",
   "version": "3.11.7"
  }
 },
 "nbformat": 4,
 "nbformat_minor": 5
}
