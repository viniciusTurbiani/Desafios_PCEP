{
 "cells": [
  {
   "cell_type": "code",
   "execution_count": 3,
   "id": "fee652ea-4f72-47e7-9792-8bc6e99d60bd",
   "metadata": {},
   "outputs": [],
   "source": [
    "lista = ['olá',20,3.1415,3 + 2j, True]"
   ]
  },
  {
   "cell_type": "code",
   "execution_count": 5,
   "id": "3292cff2-1b4e-4ed5-82dc-f6175c223f1e",
   "metadata": {},
   "outputs": [
    {
     "data": {
      "text/plain": [
       "['olá', 20, 3.1415, (3+2j), True]"
      ]
     },
     "execution_count": 5,
     "metadata": {},
     "output_type": "execute_result"
    }
   ],
   "source": [
    "lista"
   ]
  },
  {
   "cell_type": "code",
   "execution_count": 7,
   "id": "f39b73cc-efbb-4250-9030-a4fa0498e442",
   "metadata": {},
   "outputs": [
    {
     "data": {
      "text/plain": [
       "20"
      ]
     },
     "execution_count": 7,
     "metadata": {},
     "output_type": "execute_result"
    }
   ],
   "source": [
    "lista[1]"
   ]
  },
  {
   "cell_type": "code",
   "execution_count": 9,
   "id": "1ad54afd-5116-4999-b266-5d6c9f2dadb8",
   "metadata": {},
   "outputs": [
    {
     "data": {
      "text/plain": [
       "'olá'"
      ]
     },
     "execution_count": 9,
     "metadata": {},
     "output_type": "execute_result"
    }
   ],
   "source": [
    "lista[0]"
   ]
  },
  {
   "cell_type": "code",
   "execution_count": 11,
   "id": "20b8900d-349e-4af3-8743-5ca1b59dd93b",
   "metadata": {},
   "outputs": [
    {
     "data": {
      "text/plain": [
       "['olá']"
      ]
     },
     "execution_count": 11,
     "metadata": {},
     "output_type": "execute_result"
    }
   ],
   "source": [
    "lista[0:1]"
   ]
  },
  {
   "cell_type": "code",
   "execution_count": 13,
   "id": "2d8c711b-8c47-4d66-ae63-4c787b1c748e",
   "metadata": {},
   "outputs": [
    {
     "data": {
      "text/plain": [
       "['olá', 20]"
      ]
     },
     "execution_count": 13,
     "metadata": {},
     "output_type": "execute_result"
    }
   ],
   "source": [
    "lista[0:2]"
   ]
  },
  {
   "cell_type": "code",
   "execution_count": 15,
   "id": "03cb3cf8-2a26-482a-9e2f-74ee199861a2",
   "metadata": {},
   "outputs": [
    {
     "data": {
      "text/plain": [
       "[3.1415, (3+2j), True]"
      ]
     },
     "execution_count": 15,
     "metadata": {},
     "output_type": "execute_result"
    }
   ],
   "source": [
    "lista[2:5]\n"
   ]
  },
  {
   "cell_type": "code",
   "execution_count": 17,
   "id": "cda061eb-6cad-417a-bb89-620adedebb7c",
   "metadata": {},
   "outputs": [
    {
     "data": {
      "text/plain": [
       "[3.1415, (3+2j)]"
      ]
     },
     "execution_count": 17,
     "metadata": {},
     "output_type": "execute_result"
    }
   ],
   "source": [
    "lista[2:4]\n"
   ]
  },
  {
   "cell_type": "code",
   "execution_count": 19,
   "id": "dbcb0d51-ef83-4f9c-a754-41c0a83ad672",
   "metadata": {},
   "outputs": [
    {
     "data": {
      "text/plain": [
       "['olá', 3.1415, True]"
      ]
     },
     "execution_count": 19,
     "metadata": {},
     "output_type": "execute_result"
    }
   ],
   "source": [
    "lista[::2]"
   ]
  },
  {
   "cell_type": "code",
   "execution_count": 21,
   "id": "71b54c07-d6ef-4445-8175-5a77c4238e53",
   "metadata": {},
   "outputs": [
    {
     "data": {
      "text/plain": [
       "[20, (3+2j)]"
      ]
     },
     "execution_count": 21,
     "metadata": {},
     "output_type": "execute_result"
    }
   ],
   "source": [
    "lista[1::2]\n"
   ]
  },
  {
   "cell_type": "code",
   "execution_count": 25,
   "id": "721d2405-95f2-4321-a7d5-0d8b48ca575a",
   "metadata": {},
   "outputs": [
    {
     "data": {
      "text/plain": [
       "list"
      ]
     },
     "execution_count": 25,
     "metadata": {},
     "output_type": "execute_result"
    }
   ],
   "source": [
    "type(lista)"
   ]
  },
  {
   "cell_type": "code",
   "execution_count": 27,
   "id": "3c095a93-91be-4029-8f63-208294fb129b",
   "metadata": {},
   "outputs": [
    {
     "data": {
      "text/plain": [
       "str"
      ]
     },
     "execution_count": 27,
     "metadata": {},
     "output_type": "execute_result"
    }
   ],
   "source": [
    "type(lista[0])"
   ]
  },
  {
   "cell_type": "code",
   "execution_count": 29,
   "id": "2f59e423-96db-4bf7-8e72-22719c552da9",
   "metadata": {},
   "outputs": [
    {
     "data": {
      "text/plain": [
       "int"
      ]
     },
     "execution_count": 29,
     "metadata": {},
     "output_type": "execute_result"
    }
   ],
   "source": [
    "type(lista[1])"
   ]
  },
  {
   "cell_type": "code",
   "execution_count": 31,
   "id": "4c081b73-ce6e-4c1f-8827-91c6edd16096",
   "metadata": {},
   "outputs": [
    {
     "data": {
      "text/plain": [
       "float"
      ]
     },
     "execution_count": 31,
     "metadata": {},
     "output_type": "execute_result"
    }
   ],
   "source": [
    "type(lista[2])"
   ]
  },
  {
   "cell_type": "code",
   "execution_count": 33,
   "id": "c9cc912f-f172-4670-8175-462047612b19",
   "metadata": {},
   "outputs": [
    {
     "data": {
      "text/plain": [
       "complex"
      ]
     },
     "execution_count": 33,
     "metadata": {},
     "output_type": "execute_result"
    }
   ],
   "source": [
    "type(lista[3])"
   ]
  },
  {
   "cell_type": "code",
   "execution_count": 35,
   "id": "7bc9252c-1839-41cf-8ce7-313d4304c390",
   "metadata": {},
   "outputs": [
    {
     "data": {
      "text/plain": [
       "bool"
      ]
     },
     "execution_count": 35,
     "metadata": {},
     "output_type": "execute_result"
    }
   ],
   "source": [
    "type(lista[4])"
   ]
  },
  {
   "cell_type": "code",
   "execution_count": 51,
   "id": "5c604dce-061e-4d70-a16d-7e509aa7de44",
   "metadata": {},
   "outputs": [],
   "source": [
    "lista = [1,2,3,'a','b','c']"
   ]
  },
  {
   "cell_type": "code",
   "execution_count": 53,
   "id": "f0a6765b-befe-47f0-9ecd-a05655a89353",
   "metadata": {},
   "outputs": [
    {
     "data": {
      "text/plain": [
       "[1, 2, 3, 'a', 'b', 'c']"
      ]
     },
     "execution_count": 53,
     "metadata": {},
     "output_type": "execute_result"
    }
   ],
   "source": [
    "lista"
   ]
  },
  {
   "cell_type": "code",
   "execution_count": 55,
   "id": "57b71cbb-3eca-48a0-a8d8-ac4860c20d14",
   "metadata": {},
   "outputs": [],
   "source": [
    "lista.insert(3, 4)"
   ]
  },
  {
   "cell_type": "code",
   "execution_count": 57,
   "id": "51a88568-9014-4a26-b1c6-ac015497c167",
   "metadata": {},
   "outputs": [
    {
     "data": {
      "text/plain": [
       "[1, 2, 3, 4, 'a', 'b', 'c']"
      ]
     },
     "execution_count": 57,
     "metadata": {},
     "output_type": "execute_result"
    }
   ],
   "source": [
    "lista"
   ]
  },
  {
   "cell_type": "code",
   "execution_count": 59,
   "id": "8924543b-1308-4134-8f5c-da64a9b540f1",
   "metadata": {},
   "outputs": [],
   "source": [
    "lista.append('d')"
   ]
  },
  {
   "cell_type": "code",
   "execution_count": 61,
   "id": "0946e937-0148-437e-90e1-bac825307818",
   "metadata": {},
   "outputs": [
    {
     "data": {
      "text/plain": [
       "[1, 2, 3, 4, 'a', 'b', 'c', 'd']"
      ]
     },
     "execution_count": 61,
     "metadata": {},
     "output_type": "execute_result"
    }
   ],
   "source": [
    "lista"
   ]
  },
  {
   "cell_type": "code",
   "execution_count": 63,
   "id": "4653b112-a5e7-49fe-83b8-d7a8432b19b0",
   "metadata": {},
   "outputs": [],
   "source": [
    "lista.insert(0,'entrei')"
   ]
  },
  {
   "cell_type": "code",
   "execution_count": 65,
   "id": "f36a4ca0-0e51-476f-9daf-9a9561e6f1f0",
   "metadata": {},
   "outputs": [
    {
     "data": {
      "text/plain": [
       "['entrei', 1, 2, 3, 4, 'a', 'b', 'c', 'd']"
      ]
     },
     "execution_count": 65,
     "metadata": {},
     "output_type": "execute_result"
    }
   ],
   "source": [
    "lista"
   ]
  },
  {
   "cell_type": "code",
   "execution_count": 67,
   "id": "19b1233b-9574-4a64-96a5-75757a70d495",
   "metadata": {},
   "outputs": [],
   "source": [
    "lista.insert(10,'abd')"
   ]
  },
  {
   "cell_type": "code",
   "execution_count": 69,
   "id": "40789d34-0a0a-44b5-8aa0-9fa54cd7cf3c",
   "metadata": {},
   "outputs": [
    {
     "data": {
      "text/plain": [
       "['entrei', 1, 2, 3, 4, 'a', 'b', 'c', 'd', 'abd']"
      ]
     },
     "execution_count": 69,
     "metadata": {},
     "output_type": "execute_result"
    }
   ],
   "source": [
    "lista"
   ]
  },
  {
   "cell_type": "code",
   "execution_count": 85,
   "id": "6347848b-8199-433b-af0a-0a4487df9266",
   "metadata": {},
   "outputs": [],
   "source": [
    "lista1 = [1,2,3]"
   ]
  },
  {
   "cell_type": "code",
   "execution_count": 73,
   "id": "bad1a389-572f-4e7d-bd45-335e2b942007",
   "metadata": {},
   "outputs": [],
   "source": [
    "lista2 = [4,5,6]"
   ]
  },
  {
   "cell_type": "code",
   "execution_count": 75,
   "id": "01cea916-0533-417c-a227-1a972e20af21",
   "metadata": {},
   "outputs": [
    {
     "data": {
      "text/plain": [
       "[1, 2, 3, 4, 5, 6]"
      ]
     },
     "execution_count": 75,
     "metadata": {},
     "output_type": "execute_result"
    }
   ],
   "source": [
    "lista1+lista2"
   ]
  },
  {
   "cell_type": "code",
   "execution_count": 77,
   "id": "65dfc740-47e6-4490-b1da-6ee0fc4963ef",
   "metadata": {},
   "outputs": [],
   "source": [
    "lista1.append(lista2)"
   ]
  },
  {
   "cell_type": "code",
   "execution_count": 79,
   "id": "11fdcac7-d85f-4853-8c16-24d1543d63ff",
   "metadata": {},
   "outputs": [
    {
     "data": {
      "text/plain": [
       "[1, 2, 3, [4, 5, 6]]"
      ]
     },
     "execution_count": 79,
     "metadata": {},
     "output_type": "execute_result"
    }
   ],
   "source": [
    "lista1"
   ]
  },
  {
   "cell_type": "code",
   "execution_count": 81,
   "id": "8895c63d-827e-494a-a456-072da6f5278d",
   "metadata": {},
   "outputs": [
    {
     "data": {
      "text/plain": [
       "4"
      ]
     },
     "execution_count": 81,
     "metadata": {},
     "output_type": "execute_result"
    }
   ],
   "source": [
    "lista1[3][0]"
   ]
  },
  {
   "cell_type": "code",
   "execution_count": 83,
   "id": "72d86cea-f753-4cd7-a7bf-66c6da891c82",
   "metadata": {},
   "outputs": [
    {
     "data": {
      "text/plain": [
       "5"
      ]
     },
     "execution_count": 83,
     "metadata": {},
     "output_type": "execute_result"
    }
   ],
   "source": [
    "lista1[3][1]"
   ]
  },
  {
   "cell_type": "code",
   "execution_count": 87,
   "id": "2fc95719-3ce3-493b-9dec-8d95372e9ccd",
   "metadata": {},
   "outputs": [],
   "source": [
    "lista1.extend(lista2)"
   ]
  },
  {
   "cell_type": "code",
   "execution_count": 89,
   "id": "221f9a5b-633d-4541-a819-e7ac4d3868c8",
   "metadata": {},
   "outputs": [
    {
     "data": {
      "text/plain": [
       "[1, 2, 3, 4, 5, 6]"
      ]
     },
     "execution_count": 89,
     "metadata": {},
     "output_type": "execute_result"
    }
   ],
   "source": [
    "lista1"
   ]
  },
  {
   "cell_type": "code",
   "execution_count": 91,
   "id": "d5c02256-b6a7-4d02-b153-d4973d797f88",
   "metadata": {},
   "outputs": [],
   "source": [
    "lista1.extend('ola')"
   ]
  },
  {
   "cell_type": "code",
   "execution_count": 93,
   "id": "ca4c62cc-ff31-4ad1-a789-9f46512c0761",
   "metadata": {},
   "outputs": [
    {
     "data": {
      "text/plain": [
       "[1, 2, 3, 4, 5, 6, 'o', 'l', 'a']"
      ]
     },
     "execution_count": 93,
     "metadata": {},
     "output_type": "execute_result"
    }
   ],
   "source": [
    "lista1"
   ]
  },
  {
   "cell_type": "code",
   "execution_count": 95,
   "id": "84cf81c8-383e-47e6-a131-90892f81bbd3",
   "metadata": {},
   "outputs": [],
   "source": [
    "lista1.append('ola')"
   ]
  },
  {
   "cell_type": "code",
   "execution_count": 97,
   "id": "6e417bf0-8ca6-40f7-9a12-d38fa4c235cf",
   "metadata": {},
   "outputs": [
    {
     "data": {
      "text/plain": [
       "[1, 2, 3, 4, 5, 6, 'o', 'l', 'a', 'ola']"
      ]
     },
     "execution_count": 97,
     "metadata": {},
     "output_type": "execute_result"
    }
   ],
   "source": [
    "lista1"
   ]
  },
  {
   "cell_type": "code",
   "execution_count": null,
   "id": "11e58a43-0883-46d4-93a7-ace08f2e2c33",
   "metadata": {},
   "outputs": [],
   "source": []
  }
 ],
 "metadata": {
  "kernelspec": {
   "display_name": "Python 3 (ipykernel)",
   "language": "python",
   "name": "python3"
  },
  "language_info": {
   "codemirror_mode": {
    "name": "ipython",
    "version": 3
   },
   "file_extension": ".py",
   "mimetype": "text/x-python",
   "name": "python",
   "nbconvert_exporter": "python",
   "pygments_lexer": "ipython3",
   "version": "3.11.7"
  }
 },
 "nbformat": 4,
 "nbformat_minor": 5
}
