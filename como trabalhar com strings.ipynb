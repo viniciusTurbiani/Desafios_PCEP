{
 "cells": [
  {
   "cell_type": "code",
   "execution_count": 1,
   "id": "d5acd153-2251-4fbc-b090-e84e7f329eef",
   "metadata": {},
   "outputs": [],
   "source": [
    "palavra = 'string'"
   ]
  },
  {
   "cell_type": "code",
   "execution_count": 3,
   "id": "2d1569e0-846e-4328-a174-ec5121ca3cbb",
   "metadata": {},
   "outputs": [
    {
     "data": {
      "text/plain": [
       "'string'"
      ]
     },
     "execution_count": 3,
     "metadata": {},
     "output_type": "execute_result"
    }
   ],
   "source": [
    "palavra"
   ]
  },
  {
   "cell_type": "code",
   "execution_count": 5,
   "id": "27048c58-6327-45a1-84fa-94672317b592",
   "metadata": {},
   "outputs": [
    {
     "data": {
      "text/plain": [
       "'s'"
      ]
     },
     "execution_count": 5,
     "metadata": {},
     "output_type": "execute_result"
    }
   ],
   "source": [
    "palavra[0]"
   ]
  },
  {
   "cell_type": "code",
   "execution_count": 9,
   "id": "99f2386d-cf26-40f7-ba9c-3916e18e4333",
   "metadata": {},
   "outputs": [
    {
     "data": {
      "text/plain": [
       "'g'"
      ]
     },
     "execution_count": 9,
     "metadata": {},
     "output_type": "execute_result"
    }
   ],
   "source": [
    "palavra[5]"
   ]
  },
  {
   "cell_type": "code",
   "execution_count": 17,
   "id": "fc15fc35-388b-4766-af66-91b9df8aeaa1",
   "metadata": {},
   "outputs": [
    {
     "data": {
      "text/plain": [
       "'st'"
      ]
     },
     "execution_count": 17,
     "metadata": {},
     "output_type": "execute_result"
    }
   ],
   "source": [
    "palavra[0:2]"
   ]
  },
  {
   "cell_type": "code",
   "execution_count": 19,
   "id": "9246ed15-9c5a-411d-80ed-e0a6d04914f7",
   "metadata": {},
   "outputs": [
    {
     "data": {
      "text/plain": [
       "'ring'"
      ]
     },
     "execution_count": 19,
     "metadata": {},
     "output_type": "execute_result"
    }
   ],
   "source": [
    "palavra[2:6]"
   ]
  },
  {
   "cell_type": "code",
   "execution_count": 21,
   "id": "d62bea22-3ae8-4c27-889f-6a6124a9a13f",
   "metadata": {},
   "outputs": [
    {
     "data": {
      "text/plain": [
       "'str'"
      ]
     },
     "execution_count": 21,
     "metadata": {},
     "output_type": "execute_result"
    }
   ],
   "source": [
    "palavra[0:3]"
   ]
  },
  {
   "cell_type": "code",
   "execution_count": 23,
   "id": "2003f938-3341-47ae-9331-934374125e6e",
   "metadata": {},
   "outputs": [
    {
     "data": {
      "text/plain": [
       "'string'"
      ]
     },
     "execution_count": 23,
     "metadata": {},
     "output_type": "execute_result"
    }
   ],
   "source": [
    "palavra[0:2]+palavra[2:6]"
   ]
  },
  {
   "cell_type": "code",
   "execution_count": 25,
   "id": "558d676e-3a33-48b3-bd28-19e9803da34c",
   "metadata": {},
   "outputs": [
    {
     "data": {
      "text/plain": [
       "'ring'"
      ]
     },
     "execution_count": 25,
     "metadata": {},
     "output_type": "execute_result"
    }
   ],
   "source": [
    "palavra[2:]"
   ]
  },
  {
   "cell_type": "code",
   "execution_count": 27,
   "id": "19b4b62f-305b-4fae-b707-4840077eda5e",
   "metadata": {},
   "outputs": [
    {
     "data": {
      "text/plain": [
       "'str'"
      ]
     },
     "execution_count": 27,
     "metadata": {},
     "output_type": "execute_result"
    }
   ],
   "source": [
    "palavra[:3]"
   ]
  },
  {
   "cell_type": "code",
   "execution_count": 29,
   "id": "024a0817-da92-4fd6-bbea-01a1e01fd8ad",
   "metadata": {},
   "outputs": [
    {
     "data": {
      "text/plain": [
       "'string'"
      ]
     },
     "execution_count": 29,
     "metadata": {},
     "output_type": "execute_result"
    }
   ],
   "source": [
    "palavra[:]"
   ]
  },
  {
   "cell_type": "code",
   "execution_count": 31,
   "id": "d5395b42-7930-4ec4-8baf-c2d4847a5c5b",
   "metadata": {},
   "outputs": [
    {
     "data": {
      "text/plain": [
       "'srn'"
      ]
     },
     "execution_count": 31,
     "metadata": {},
     "output_type": "execute_result"
    }
   ],
   "source": [
    "palavra[::2]"
   ]
  },
  {
   "cell_type": "code",
   "execution_count": 33,
   "id": "5c0068e1-ae74-412f-82de-fa644f5ecf91",
   "metadata": {},
   "outputs": [
    {
     "data": {
      "text/plain": [
       "'si'"
      ]
     },
     "execution_count": 33,
     "metadata": {},
     "output_type": "execute_result"
    }
   ],
   "source": [
    "palavra[::3]"
   ]
  },
  {
   "cell_type": "code",
   "execution_count": 35,
   "id": "c6dedfd2-a80a-4f2a-b231-56aaed118fdb",
   "metadata": {},
   "outputs": [
    {
     "data": {
      "text/plain": [
       "'g'"
      ]
     },
     "execution_count": 35,
     "metadata": {},
     "output_type": "execute_result"
    }
   ],
   "source": [
    "palavra[-1]"
   ]
  },
  {
   "cell_type": "code",
   "execution_count": 37,
   "id": "56d0eaf5-4f18-46cb-b269-35aa86b16264",
   "metadata": {},
   "outputs": [
    {
     "data": {
      "text/plain": [
       "'g'"
      ]
     },
     "execution_count": 37,
     "metadata": {},
     "output_type": "execute_result"
    }
   ],
   "source": [
    "palavra[-1:]"
   ]
  },
  {
   "cell_type": "code",
   "execution_count": 39,
   "id": "979d56ae-fbb9-4bdb-b4c0-a8cb3f06a066",
   "metadata": {},
   "outputs": [
    {
     "data": {
      "text/plain": [
       "'ing'"
      ]
     },
     "execution_count": 39,
     "metadata": {},
     "output_type": "execute_result"
    }
   ],
   "source": [
    "palavra[-3:]"
   ]
  },
  {
   "cell_type": "code",
   "execution_count": 41,
   "id": "9c22ea00-6e1f-48a2-a22c-e1ea2c30e99f",
   "metadata": {},
   "outputs": [
    {
     "data": {
      "text/plain": [
       "'ig'"
      ]
     },
     "execution_count": 41,
     "metadata": {},
     "output_type": "execute_result"
    }
   ],
   "source": [
    "palavra[-3::2]"
   ]
  },
  {
   "cell_type": "code",
   "execution_count": 43,
   "id": "1e15120c-ec0c-4bcc-8ca5-5b1cc6e9ab64",
   "metadata": {},
   "outputs": [
    {
     "data": {
      "text/plain": [
       "'tri'"
      ]
     },
     "execution_count": 43,
     "metadata": {},
     "output_type": "execute_result"
    }
   ],
   "source": [
    "palavra[-5:-2]"
   ]
  },
  {
   "cell_type": "code",
   "execution_count": 45,
   "id": "e4cd51d8-4360-46b0-9c39-013be5e87321",
   "metadata": {},
   "outputs": [
    {
     "data": {
      "text/plain": [
       "'ti'"
      ]
     },
     "execution_count": 45,
     "metadata": {},
     "output_type": "execute_result"
    }
   ],
   "source": [
    "palavra[-5:-2:2]"
   ]
  },
  {
   "cell_type": "code",
   "execution_count": null,
   "id": "1fb8a96b-e35c-47c9-acc8-059de458099b",
   "metadata": {},
   "outputs": [],
   "source": []
  }
 ],
 "metadata": {
  "kernelspec": {
   "display_name": "Python 3 (ipykernel)",
   "language": "python",
   "name": "python3"
  },
  "language_info": {
   "codemirror_mode": {
    "name": "ipython",
    "version": 3
   },
   "file_extension": ".py",
   "mimetype": "text/x-python",
   "name": "python",
   "nbconvert_exporter": "python",
   "pygments_lexer": "ipython3",
   "version": "3.11.7"
  }
 },
 "nbformat": 4,
 "nbformat_minor": 5
}
