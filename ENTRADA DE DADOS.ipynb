{
 "cells": [
  {
   "cell_type": "code",
   "execution_count": 1,
   "id": "2c1d10bb-504b-4bc7-a83a-654ab922b66f",
   "metadata": {},
   "outputs": [
    {
     "name": "stdin",
     "output_type": "stream",
     "text": [
      " teste\n"
     ]
    },
    {
     "data": {
      "text/plain": [
       "'teste'"
      ]
     },
     "execution_count": 1,
     "metadata": {},
     "output_type": "execute_result"
    }
   ],
   "source": [
    "input()"
   ]
  },
  {
   "cell_type": "code",
   "execution_count": 3,
   "id": "ed8aefa2-e115-41ca-830b-df65ce589a63",
   "metadata": {},
   "outputs": [
    {
     "name": "stdin",
     "output_type": "stream",
     "text": [
      "Qual a sua idade? 25\n"
     ]
    },
    {
     "data": {
      "text/plain": [
       "'25'"
      ]
     },
     "execution_count": 3,
     "metadata": {},
     "output_type": "execute_result"
    }
   ],
   "source": [
    "input('Qual a sua idade?')"
   ]
  },
  {
   "cell_type": "code",
   "execution_count": 5,
   "id": "2e6b47bc-3006-4b71-8792-d1163b48d2ac",
   "metadata": {},
   "outputs": [
    {
     "name": "stdin",
     "output_type": "stream",
     "text": [
      "Qual a sua idade? 22\n"
     ]
    }
   ],
   "source": [
    "idade = input('Qual a sua idade?')"
   ]
  },
  {
   "cell_type": "code",
   "execution_count": 7,
   "id": "64358735-6712-4e17-83e9-481820b9a079",
   "metadata": {},
   "outputs": [
    {
     "data": {
      "text/plain": [
       "'22'"
      ]
     },
     "execution_count": 7,
     "metadata": {},
     "output_type": "execute_result"
    }
   ],
   "source": [
    "idade"
   ]
  },
  {
   "cell_type": "code",
   "execution_count": 11,
   "id": "46174ea3-eda2-4310-b7da-bfd9a4756c5a",
   "metadata": {},
   "outputs": [
    {
     "name": "stdin",
     "output_type": "stream",
     "text": [
      "Qual o seu nome? Vinicius\n"
     ]
    }
   ],
   "source": [
    "nome = input('Qual o seu nome?')"
   ]
  },
  {
   "cell_type": "code",
   "execution_count": 13,
   "id": "f2e06e03-2364-4546-a887-5dfc1aec8252",
   "metadata": {},
   "outputs": [
    {
     "name": "stdout",
     "output_type": "stream",
     "text": [
      "Olá Vinicius sea bem vindo!\n"
     ]
    }
   ],
   "source": [
    "print('Olá', nome, 'sea bem vindo!')"
   ]
  },
  {
   "cell_type": "code",
   "execution_count": 15,
   "id": "fe76e05b-6ae6-44fa-a92b-c04171a70e39",
   "metadata": {},
   "outputs": [
    {
     "data": {
      "text/plain": [
       "'Ola Vinicius seja bem vindo!'"
      ]
     },
     "execution_count": 15,
     "metadata": {},
     "output_type": "execute_result"
    }
   ],
   "source": [
    "f'Ola {nome} seja bem vindo!'"
   ]
  },
  {
   "cell_type": "code",
   "execution_count": 29,
   "id": "7356d03a-f2d6-4447-8fac-6002250015e3",
   "metadata": {},
   "outputs": [
    {
     "name": "stdin",
     "output_type": "stream",
     "text": [
      "Qual o seu peso (kg)? 80\n"
     ]
    }
   ],
   "source": [
    "peso = float(input('Qual o seu peso (kg)?'))"
   ]
  },
  {
   "cell_type": "code",
   "execution_count": 31,
   "id": "9fad6d76-b962-43b4-980e-57650e586f43",
   "metadata": {},
   "outputs": [
    {
     "name": "stdin",
     "output_type": "stream",
     "text": [
      "Qual a sua altura (em metros)? 1.7\n"
     ]
    }
   ],
   "source": [
    "altura = float(input('Qual a sua altura (em metros)?'))"
   ]
  },
  {
   "cell_type": "code",
   "execution_count": 23,
   "id": "57be2ee7-32c5-4a2e-b9fd-d0a2e3ab2ea7",
   "metadata": {},
   "outputs": [
    {
     "name": "stdout",
     "output_type": "stream",
     "text": [
      "80 1.7\n"
     ]
    }
   ],
   "source": [
    "print(peso, altura)"
   ]
  },
  {
   "cell_type": "code",
   "execution_count": 35,
   "id": "996527b6-563d-428c-9796-5a30808a0929",
   "metadata": {},
   "outputs": [],
   "source": [
    "imc = peso / (altura*altura)"
   ]
  },
  {
   "cell_type": "code",
   "execution_count": 37,
   "id": "eeb6385a-eeb8-4560-a32e-6e9944a924c2",
   "metadata": {},
   "outputs": [
    {
     "data": {
      "text/plain": [
       "27.68166089965398"
      ]
     },
     "execution_count": 37,
     "metadata": {},
     "output_type": "execute_result"
    }
   ],
   "source": [
    "imc"
   ]
  },
  {
   "cell_type": "code",
   "execution_count": null,
   "id": "97e5bc12-09db-467e-ae08-20b28ae9b88f",
   "metadata": {},
   "outputs": [],
   "source": []
  }
 ],
 "metadata": {
  "kernelspec": {
   "display_name": "Python 3 (ipykernel)",
   "language": "python",
   "name": "python3"
  },
  "language_info": {
   "codemirror_mode": {
    "name": "ipython",
    "version": 3
   },
   "file_extension": ".py",
   "mimetype": "text/x-python",
   "name": "python",
   "nbconvert_exporter": "python",
   "pygments_lexer": "ipython3",
   "version": "3.11.7"
  }
 },
 "nbformat": 4,
 "nbformat_minor": 5
}
