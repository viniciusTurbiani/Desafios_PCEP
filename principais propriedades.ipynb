{
 "cells": [
  {
   "cell_type": "code",
   "execution_count": 1,
   "id": "102076fa-50a0-4e53-a8cc-39ee453da8c8",
   "metadata": {},
   "outputs": [],
   "source": [
    "texto = 'Programador Aventureiro - As melhores aventuras do mundo TECH!'"
   ]
  },
  {
   "cell_type": "code",
   "execution_count": 3,
   "id": "44aa6330-d775-4a20-a277-a9bfbc32bf44",
   "metadata": {},
   "outputs": [
    {
     "data": {
      "text/plain": [
       "'Programador aventureiro - as melhores aventuras do mundo tech!'"
      ]
     },
     "execution_count": 3,
     "metadata": {},
     "output_type": "execute_result"
    }
   ],
   "source": [
    "texto.capitalize()"
   ]
  },
  {
   "cell_type": "code",
   "execution_count": 5,
   "id": "ae44ee40-df06-4e5f-8d87-9ec77754c9a1",
   "metadata": {},
   "outputs": [
    {
     "data": {
      "text/plain": [
       "'Programador Aventureiro - As Melhores Aventuras Do Mundo Tech!'"
      ]
     },
     "execution_count": 5,
     "metadata": {},
     "output_type": "execute_result"
    }
   ],
   "source": [
    "texto.title()"
   ]
  },
  {
   "cell_type": "code",
   "execution_count": 11,
   "id": "a15d6e5e-821e-4459-9c62-d3c51b6d4919",
   "metadata": {},
   "outputs": [],
   "source": [
    "texto = texto.title()"
   ]
  },
  {
   "cell_type": "code",
   "execution_count": 13,
   "id": "fb1a6425-0769-46b3-b714-cf2b956e0ddb",
   "metadata": {},
   "outputs": [
    {
     "data": {
      "text/plain": [
       "'Programador Aventureiro - As Melhores Aventuras Do Mundo Tech!'"
      ]
     },
     "execution_count": 13,
     "metadata": {},
     "output_type": "execute_result"
    }
   ],
   "source": [
    "texto"
   ]
  },
  {
   "cell_type": "code",
   "execution_count": 15,
   "id": "a92b9d7c-afd6-4e85-af92-c3d48774e8ff",
   "metadata": {},
   "outputs": [],
   "source": [
    "texto_maiusculas = texto.upper()"
   ]
  },
  {
   "cell_type": "code",
   "execution_count": 17,
   "id": "b108024c-bdc9-4b93-83d3-304d2eb0d356",
   "metadata": {},
   "outputs": [
    {
     "data": {
      "text/plain": [
       "'PROGRAMADOR AVENTUREIRO - AS MELHORES AVENTURAS DO MUNDO TECH!'"
      ]
     },
     "execution_count": 17,
     "metadata": {},
     "output_type": "execute_result"
    }
   ],
   "source": [
    "texto_maiusculas"
   ]
  },
  {
   "cell_type": "code",
   "execution_count": 19,
   "id": "4907bc83-75d9-4b83-8c8e-9dfde6aa2913",
   "metadata": {},
   "outputs": [
    {
     "data": {
      "text/plain": [
       "'Programador Aventureiro - As Melhores Aventuras Do Mundo Tech!'"
      ]
     },
     "execution_count": 19,
     "metadata": {},
     "output_type": "execute_result"
    }
   ],
   "source": [
    "texto"
   ]
  },
  {
   "cell_type": "code",
   "execution_count": 21,
   "id": "0d03abce-7d05-46f3-93ee-e8a9d6dd24d1",
   "metadata": {},
   "outputs": [],
   "source": [
    "texto_minusculas = texto.lower()"
   ]
  },
  {
   "cell_type": "code",
   "execution_count": 23,
   "id": "6e8a94f8-09dc-4dbc-b29c-ff28a788405e",
   "metadata": {},
   "outputs": [
    {
     "data": {
      "text/plain": [
       "'programador aventureiro - as melhores aventuras do mundo tech!'"
      ]
     },
     "execution_count": 23,
     "metadata": {},
     "output_type": "execute_result"
    }
   ],
   "source": [
    "texto_minusculas"
   ]
  },
  {
   "cell_type": "code",
   "execution_count": 25,
   "id": "921b069f-ce19-49bf-b2cc-77d42b6737df",
   "metadata": {},
   "outputs": [
    {
     "name": "stdin",
     "output_type": "stream",
     "text": [
      "Qual o seu nome? Vinicius\n"
     ]
    }
   ],
   "source": [
    "nome = input('Qual o seu nome?')"
   ]
  },
  {
   "cell_type": "code",
   "execution_count": 27,
   "id": "e3404c6f-9151-44dd-b679-548e91d5062f",
   "metadata": {},
   "outputs": [],
   "source": [
    "usuario = 'vinicius'"
   ]
  },
  {
   "cell_type": "code",
   "execution_count": 29,
   "id": "225f00d1-6e37-4f55-8fb4-624d1fd6ecfa",
   "metadata": {},
   "outputs": [
    {
     "data": {
      "text/plain": [
       "False"
      ]
     },
     "execution_count": 29,
     "metadata": {},
     "output_type": "execute_result"
    }
   ],
   "source": [
    "nome == usuario"
   ]
  },
  {
   "cell_type": "code",
   "execution_count": 41,
   "id": "3bb1364f-e5d1-4b83-b354-c97bcd69285c",
   "metadata": {},
   "outputs": [
    {
     "data": {
      "text/plain": [
       "True"
      ]
     },
     "execution_count": 41,
     "metadata": {},
     "output_type": "execute_result"
    }
   ],
   "source": [
    "nome.upper() == usuario.upper()"
   ]
  },
  {
   "cell_type": "code",
   "execution_count": 53,
   "id": "17839927-e5f8-4922-8947-d863bc97abfe",
   "metadata": {},
   "outputs": [
    {
     "data": {
      "text/plain": [
       "'*******************Programador Aventureiro - As Melhores Aventuras Do Mundo Tech!*******************'"
      ]
     },
     "execution_count": 53,
     "metadata": {},
     "output_type": "execute_result"
    }
   ],
   "source": [
    "texto.center(100,'*')"
   ]
  },
  {
   "cell_type": "code",
   "execution_count": 55,
   "id": "fa21367e-9683-4da3-8149-f4a53b4dbc1d",
   "metadata": {},
   "outputs": [
    {
     "data": {
      "text/plain": [
       "3"
      ]
     },
     "execution_count": 55,
     "metadata": {},
     "output_type": "execute_result"
    }
   ],
   "source": [
    "texto.count('A')"
   ]
  },
  {
   "cell_type": "code",
   "execution_count": 57,
   "id": "4c0b446d-4627-40f0-99e9-36b5d4ad7781",
   "metadata": {},
   "outputs": [
    {
     "data": {
      "text/plain": [
       "3"
      ]
     },
     "execution_count": 57,
     "metadata": {},
     "output_type": "execute_result"
    }
   ],
   "source": [
    "texto.count('a')\n"
   ]
  },
  {
   "cell_type": "code",
   "execution_count": 59,
   "id": "056d1e86-e3c5-480b-8485-a3b5deebb8bf",
   "metadata": {},
   "outputs": [
    {
     "data": {
      "text/plain": [
       "'Programador Aventureiro - As Melhores Aventuras Do Mundo Tech!'"
      ]
     },
     "execution_count": 59,
     "metadata": {},
     "output_type": "execute_result"
    }
   ],
   "source": [
    "texto"
   ]
  },
  {
   "cell_type": "code",
   "execution_count": 63,
   "id": "e3d1ec52-fbfc-4dcd-be60-87a349de7e96",
   "metadata": {},
   "outputs": [
    {
     "data": {
      "text/plain": [
       "2"
      ]
     },
     "execution_count": 63,
     "metadata": {},
     "output_type": "execute_result"
    }
   ],
   "source": [
    "texto.count('Av')"
   ]
  },
  {
   "cell_type": "code",
   "execution_count": 79,
   "id": "6deda157-0689-4304-8d91-ecdb7e7684d7",
   "metadata": {},
   "outputs": [
    {
     "data": {
      "text/plain": [
       "2"
      ]
     },
     "execution_count": 79,
     "metadata": {},
     "output_type": "execute_result"
    }
   ],
   "source": [
    "texto.lower().count('a', -26, -2)\n"
   ]
  },
  {
   "cell_type": "code",
   "execution_count": 69,
   "id": "ef3a1c35-0ddf-4cf3-9d89-19643c74ba94",
   "metadata": {},
   "outputs": [],
   "source": [
    "texto1 = texto.lower()"
   ]
  },
  {
   "cell_type": "code",
   "execution_count": 73,
   "id": "e0b7a34e-5218-4845-8603-840bd07fb4f5",
   "metadata": {},
   "outputs": [
    {
     "data": {
      "text/plain": [
       "6"
      ]
     },
     "execution_count": 73,
     "metadata": {},
     "output_type": "execute_result"
    }
   ],
   "source": [
    "texto1.count('a')"
   ]
  },
  {
   "cell_type": "code",
   "execution_count": 83,
   "id": "3ac86059-c363-4f10-8d64-57a22a98854a",
   "metadata": {},
   "outputs": [
    {
     "data": {
      "text/plain": [
       "True"
      ]
     },
     "execution_count": 83,
     "metadata": {},
     "output_type": "execute_result"
    }
   ],
   "source": [
    "texto.startswith('Programador')"
   ]
  },
  {
   "cell_type": "code",
   "execution_count": 85,
   "id": "359f15d6-5170-47cb-9605-34dc045fac5d",
   "metadata": {},
   "outputs": [
    {
     "data": {
      "text/plain": [
       "False"
      ]
     },
     "execution_count": 85,
     "metadata": {},
     "output_type": "execute_result"
    }
   ],
   "source": [
    "texto.startswith('programador')"
   ]
  },
  {
   "cell_type": "code",
   "execution_count": 87,
   "id": "5a9a8489-1d64-4665-ab81-4db8ad181baa",
   "metadata": {},
   "outputs": [
    {
     "data": {
      "text/plain": [
       "True"
      ]
     },
     "execution_count": 87,
     "metadata": {},
     "output_type": "execute_result"
    }
   ],
   "source": [
    "texto.endswith('!')"
   ]
  },
  {
   "cell_type": "code",
   "execution_count": 89,
   "id": "662fedee-5c6f-4d8c-abea-e3c7aac6e71e",
   "metadata": {},
   "outputs": [
    {
     "data": {
      "text/plain": [
       "True"
      ]
     },
     "execution_count": 89,
     "metadata": {},
     "output_type": "execute_result"
    }
   ],
   "source": [
    "texto.endswith('Tech!')\n"
   ]
  },
  {
   "cell_type": "code",
   "execution_count": 91,
   "id": "22c0d02a-79ec-49c9-af5e-3a78bb0cbc03",
   "metadata": {},
   "outputs": [
    {
     "data": {
      "text/plain": [
       "False"
      ]
     },
     "execution_count": 91,
     "metadata": {},
     "output_type": "execute_result"
    }
   ],
   "source": [
    "texto.endswith('Tech')"
   ]
  },
  {
   "cell_type": "code",
   "execution_count": 95,
   "id": "74b78125-c6ad-4c2e-aa6c-084a372bd026",
   "metadata": {},
   "outputs": [
    {
     "data": {
      "text/plain": [
       "6"
      ]
     },
     "execution_count": 95,
     "metadata": {},
     "output_type": "execute_result"
    }
   ],
   "source": [
    "texto.find('m')"
   ]
  },
  {
   "cell_type": "code",
   "execution_count": 97,
   "id": "572a5a94-f0bf-44c5-856d-34628ffe8bfb",
   "metadata": {},
   "outputs": [
    {
     "data": {
      "text/plain": [
       "5"
      ]
     },
     "execution_count": 97,
     "metadata": {},
     "output_type": "execute_result"
    }
   ],
   "source": [
    "texto.find('a')"
   ]
  },
  {
   "cell_type": "code",
   "execution_count": 99,
   "id": "6b7e51ae-5004-4679-9fe2-9c131784a90f",
   "metadata": {},
   "outputs": [
    {
     "data": {
      "text/plain": [
       "12"
      ]
     },
     "execution_count": 99,
     "metadata": {},
     "output_type": "execute_result"
    }
   ],
   "source": [
    "texto.find('A')"
   ]
  },
  {
   "cell_type": "code",
   "execution_count": 101,
   "id": "bb3b1c9c-838a-4f48-ac6f-314537ad92e0",
   "metadata": {},
   "outputs": [
    {
     "data": {
      "text/plain": [
       "7"
      ]
     },
     "execution_count": 101,
     "metadata": {},
     "output_type": "execute_result"
    }
   ],
   "source": [
    "texto.find('ador')"
   ]
  },
  {
   "cell_type": "code",
   "execution_count": 103,
   "id": "5d7c5035-22cb-46d6-aab8-8b0fa6f04d59",
   "metadata": {},
   "outputs": [
    {
     "data": {
      "text/plain": [
       "6"
      ]
     },
     "execution_count": 103,
     "metadata": {},
     "output_type": "execute_result"
    }
   ],
   "source": [
    "texto.find('mador')"
   ]
  },
  {
   "cell_type": "code",
   "execution_count": 105,
   "id": "fad14c97-7d91-4d95-a9e8-72a78494a4e1",
   "metadata": {},
   "outputs": [
    {
     "data": {
      "text/plain": [
       "-1"
      ]
     },
     "execution_count": 105,
     "metadata": {},
     "output_type": "execute_result"
    }
   ],
   "source": [
    "texto.find('m',11,23)"
   ]
  },
  {
   "cell_type": "code",
   "execution_count": 107,
   "id": "c0c6e76b-7267-492c-9595-162aa1b02a64",
   "metadata": {},
   "outputs": [
    {
     "data": {
      "text/plain": [
       "-1"
      ]
     },
     "execution_count": 107,
     "metadata": {},
     "output_type": "execute_result"
    }
   ],
   "source": [
    "texto.find('m',11)"
   ]
  },
  {
   "cell_type": "code",
   "execution_count": 109,
   "id": "2f80c478-8d49-4fb3-ba55-7a9e0630d7b9",
   "metadata": {},
   "outputs": [
    {
     "data": {
      "text/plain": [
       "29"
      ]
     },
     "execution_count": 109,
     "metadata": {},
     "output_type": "execute_result"
    }
   ],
   "source": [
    "texto.find('M',11)"
   ]
  },
  {
   "cell_type": "code",
   "execution_count": 115,
   "id": "7a6534f2-0e87-4e9e-ab20-541341965763",
   "metadata": {},
   "outputs": [
    {
     "ename": "ValueError",
     "evalue": "substring not found",
     "output_type": "error",
     "traceback": [
      "\u001b[1;31m---------------------------------------------------------------------------\u001b[0m",
      "\u001b[1;31mValueError\u001b[0m                                Traceback (most recent call last)",
      "Cell \u001b[1;32mIn[115], line 1\u001b[0m\n\u001b[1;32m----> 1\u001b[0m texto\u001b[38;5;241m.\u001b[39mindex(\u001b[38;5;124m'\u001b[39m\u001b[38;5;124mm\u001b[39m\u001b[38;5;124m'\u001b[39m,\u001b[38;5;241m11\u001b[39m,\u001b[38;5;241m23\u001b[39m)\n",
      "\u001b[1;31mValueError\u001b[0m: substring not found"
     ]
    }
   ],
   "source": [
    "texto.index('m',11,23)"
   ]
  },
  {
   "cell_type": "code",
   "execution_count": 117,
   "id": "f6d6d737-8f60-4143-9a0d-2e03fc852b4d",
   "metadata": {},
   "outputs": [
    {
     "data": {
      "text/plain": [
       "'Progr@m@dor Aventureiro - As Melhores Aventur@s Do Mundo Tech!'"
      ]
     },
     "execution_count": 117,
     "metadata": {},
     "output_type": "execute_result"
    }
   ],
   "source": [
    "texto.replace('a','@')"
   ]
  },
  {
   "cell_type": "code",
   "execution_count": 119,
   "id": "f6f51217-047a-420f-9a1e-783da27d8a9e",
   "metadata": {},
   "outputs": [
    {
     "data": {
      "text/plain": [
       "'progr@m@dor @ventureiro - @s melhores @ventur@s do mundo tech!'"
      ]
     },
     "execution_count": 119,
     "metadata": {},
     "output_type": "execute_result"
    }
   ],
   "source": [
    "texto.lower().replace('a','@')"
   ]
  },
  {
   "cell_type": "code",
   "execution_count": 121,
   "id": "5bc6bd40-69ff-4042-a7ee-046707454aa4",
   "metadata": {},
   "outputs": [
    {
     "data": {
      "text/plain": [
       "'programador Sagaz - as melhores aventuras do mundo tech!'"
      ]
     },
     "execution_count": 121,
     "metadata": {},
     "output_type": "execute_result"
    }
   ],
   "source": [
    "texto.lower().replace('aventureiro','Sagaz')"
   ]
  },
  {
   "cell_type": "code",
   "execution_count": 123,
   "id": "7181bd3a-fbb2-4734-84ff-0dbc5959d69b",
   "metadata": {},
   "outputs": [
    {
     "data": {
      "text/plain": [
       "'programador Sagaz - os melhores aventuros do mundo tech!'"
      ]
     },
     "execution_count": 123,
     "metadata": {},
     "output_type": "execute_result"
    }
   ],
   "source": [
    "texto.lower().replace('aventureiro','Sagaz').replace('as','os')"
   ]
  },
  {
   "cell_type": "code",
   "execution_count": 125,
   "id": "2d45c00f-8191-4913-ad99-7307a01ccc3c",
   "metadata": {},
   "outputs": [
    {
     "data": {
      "text/plain": [
       "True"
      ]
     },
     "execution_count": 125,
     "metadata": {},
     "output_type": "execute_result"
    }
   ],
   "source": [
    "'abc'.isalpha()"
   ]
  },
  {
   "cell_type": "code",
   "execution_count": 127,
   "id": "cd51a897-8500-4a3f-82d4-3016b7ed8bf3",
   "metadata": {},
   "outputs": [
    {
     "data": {
      "text/plain": [
       "False"
      ]
     },
     "execution_count": 127,
     "metadata": {},
     "output_type": "execute_result"
    }
   ],
   "source": [
    "'abc3'.isalpha()"
   ]
  },
  {
   "cell_type": "code",
   "execution_count": 129,
   "id": "1a50d96c-1d84-4a8a-a90a-38c8904715fd",
   "metadata": {},
   "outputs": [
    {
     "data": {
      "text/plain": [
       "False"
      ]
     },
     "execution_count": 129,
     "metadata": {},
     "output_type": "execute_result"
    }
   ],
   "source": [
    "'abc_'.isalpha()"
   ]
  },
  {
   "cell_type": "code",
   "execution_count": 131,
   "id": "9afddbd8-60cb-4993-97b1-193843f484b4",
   "metadata": {},
   "outputs": [
    {
     "data": {
      "text/plain": [
       "True"
      ]
     },
     "execution_count": 131,
     "metadata": {},
     "output_type": "execute_result"
    }
   ],
   "source": [
    "'0124123423'.isalnum()"
   ]
  },
  {
   "cell_type": "code",
   "execution_count": 143,
   "id": "1359cd30-debc-43be-915a-f9f54df3fa6e",
   "metadata": {},
   "outputs": [
    {
     "data": {
      "text/plain": [
       "True"
      ]
     },
     "execution_count": 143,
     "metadata": {},
     "output_type": "execute_result"
    }
   ],
   "source": [
    "'asda'.isalnum()"
   ]
  },
  {
   "cell_type": "code",
   "execution_count": 145,
   "id": "4afa3df6-e2c7-4193-9d5c-28849f0cf82f",
   "metadata": {},
   "outputs": [],
   "source": [
    "hello = 'hello word'"
   ]
  },
  {
   "cell_type": "code",
   "execution_count": 149,
   "id": "e53c4248-68bc-45d3-8180-9d2ef37a08b7",
   "metadata": {},
   "outputs": [
    {
     "data": {
      "text/plain": [
       "'h_e_l_l_o_ _w_o_r_d'"
      ]
     },
     "execution_count": 149,
     "metadata": {},
     "output_type": "execute_result"
    }
   ],
   "source": [
    "'_'.join(hello)"
   ]
  },
  {
   "cell_type": "code",
   "execution_count": 153,
   "id": "ca17527e-fe61-4535-9cf3-937d027d697a",
   "metadata": {},
   "outputs": [
    {
     "data": {
      "text/plain": [
       "'h e l l o   w o r d'"
      ]
     },
     "execution_count": 153,
     "metadata": {},
     "output_type": "execute_result"
    }
   ],
   "source": [
    "' '.join(hello)"
   ]
  },
  {
   "cell_type": "code",
   "execution_count": 155,
   "id": "54518b3b-4d7c-4db0-837f-019838532fc1",
   "metadata": {},
   "outputs": [
    {
     "data": {
      "text/plain": [
       "'hello word'"
      ]
     },
     "execution_count": 155,
     "metadata": {},
     "output_type": "execute_result"
    }
   ],
   "source": [
    "'-'.join([hello])"
   ]
  },
  {
   "cell_type": "code",
   "execution_count": 159,
   "id": "07192bb7-e38f-4173-8065-4f66c775d6a5",
   "metadata": {},
   "outputs": [
    {
     "data": {
      "text/plain": [
       "'hello-word'"
      ]
     },
     "execution_count": 159,
     "metadata": {},
     "output_type": "execute_result"
    }
   ],
   "source": [
    "'-'.join({'hello','word'})"
   ]
  },
  {
   "cell_type": "code",
   "execution_count": 161,
   "id": "3b26bd6f-5e8c-4407-9c1b-52d210a7c46a",
   "metadata": {},
   "outputs": [],
   "source": [
    "var = '-'.join({'1','2','3','4'})"
   ]
  },
  {
   "cell_type": "code",
   "execution_count": 163,
   "id": "334ac0cd-8385-47a1-b4f9-e9601676a3c9",
   "metadata": {},
   "outputs": [
    {
     "data": {
      "text/plain": [
       "'4-3-2-1'"
      ]
     },
     "execution_count": 163,
     "metadata": {},
     "output_type": "execute_result"
    }
   ],
   "source": [
    "var"
   ]
  },
  {
   "cell_type": "code",
   "execution_count": 165,
   "id": "d76251d8-9165-4e44-815b-e7ca993cd2ef",
   "metadata": {},
   "outputs": [],
   "source": [
    "var = '-'.join(['1','2','3','4'])"
   ]
  },
  {
   "cell_type": "code",
   "execution_count": 167,
   "id": "e1ae1270-7f36-4b27-9d22-6cd3677905d8",
   "metadata": {},
   "outputs": [
    {
     "data": {
      "text/plain": [
       "'1-2-3-4'"
      ]
     },
     "execution_count": 167,
     "metadata": {},
     "output_type": "execute_result"
    }
   ],
   "source": [
    "var"
   ]
  },
  {
   "cell_type": "code",
   "execution_count": 169,
   "id": "42077812-f292-49ff-8951-9254915686f5",
   "metadata": {},
   "outputs": [
    {
     "data": {
      "text/plain": [
       "['1', '2', '3', '4']"
      ]
     },
     "execution_count": 169,
     "metadata": {},
     "output_type": "execute_result"
    }
   ],
   "source": [
    "var.split('-')"
   ]
  },
  {
   "cell_type": "code",
   "execution_count": 171,
   "id": "bd6f6c84-bc0c-422c-bdf8-f2b5c7109247",
   "metadata": {},
   "outputs": [
    {
     "data": {
      "text/plain": [
       "['1-2-3-4']"
      ]
     },
     "execution_count": 171,
     "metadata": {},
     "output_type": "execute_result"
    }
   ],
   "source": [
    "var.split('_')"
   ]
  },
  {
   "cell_type": "code",
   "execution_count": 173,
   "id": "43cdb918-d23c-4ee9-9d3d-476510ab03b3",
   "metadata": {},
   "outputs": [
    {
     "data": {
      "text/plain": [
       "['1-', '-3-4']"
      ]
     },
     "execution_count": 173,
     "metadata": {},
     "output_type": "execute_result"
    }
   ],
   "source": [
    "var.split('2')"
   ]
  },
  {
   "cell_type": "code",
   "execution_count": 175,
   "id": "47fec66b-d461-48f8-815c-3d0705f55056",
   "metadata": {},
   "outputs": [
    {
     "data": {
      "text/plain": [
       "'Programador Aventureiro - As Melhores Aventuras Do Mundo Tech!'"
      ]
     },
     "execution_count": 175,
     "metadata": {},
     "output_type": "execute_result"
    }
   ],
   "source": [
    "texto"
   ]
  },
  {
   "cell_type": "code",
   "execution_count": 183,
   "id": "ebf23aab-7be5-42f0-8450-bd29a07ecafc",
   "metadata": {},
   "outputs": [],
   "source": [
    "texto3 = texto.center(100,'-')"
   ]
  },
  {
   "cell_type": "code",
   "execution_count": 185,
   "id": "84fc6c38-0cab-4964-bfec-80a80441cd58",
   "metadata": {},
   "outputs": [
    {
     "data": {
      "text/plain": [
       "'-------------------Programador Aventureiro - As Melhores Aventuras Do Mundo Tech!-------------------'"
      ]
     },
     "execution_count": 185,
     "metadata": {},
     "output_type": "execute_result"
    }
   ],
   "source": [
    "texto3"
   ]
  },
  {
   "cell_type": "code",
   "execution_count": 187,
   "id": "00f177c6-53da-42fd-aa3f-70777739389a",
   "metadata": {},
   "outputs": [
    {
     "data": {
      "text/plain": [
       "'-------------------Programador Aventureiro - As Melhores Aventuras Do Mundo Tech!-------------------'"
      ]
     },
     "execution_count": 187,
     "metadata": {},
     "output_type": "execute_result"
    }
   ],
   "source": [
    "texto3.strip()"
   ]
  },
  {
   "cell_type": "code",
   "execution_count": 189,
   "id": "50762f38-ab07-41a2-ba82-3b5e8ffedacb",
   "metadata": {},
   "outputs": [
    {
     "data": {
      "text/plain": [
       "'Programador Aventureiro - As Melhores Aventuras Do Mundo Tech!'"
      ]
     },
     "execution_count": 189,
     "metadata": {},
     "output_type": "execute_result"
    }
   ],
   "source": [
    "texto3.strip('-')"
   ]
  },
  {
   "cell_type": "code",
   "execution_count": 191,
   "id": "f2629326-67e1-4f19-90d0-0ce976fef6b3",
   "metadata": {},
   "outputs": [],
   "source": [
    "test = 'This is just a simple string.'\n"
   ]
  },
  {
   "cell_type": "code",
   "execution_count": 193,
   "id": "a53202ff-e06a-4358-8c44-48d34104fde5",
   "metadata": {},
   "outputs": [
    {
     "data": {
      "text/plain": [
       "29"
      ]
     },
     "execution_count": 193,
     "metadata": {},
     "output_type": "execute_result"
    }
   ],
   "source": [
    "len(test) "
   ]
  },
  {
   "cell_type": "code",
   "execution_count": 195,
   "id": "bc0c2156-07f0-4043-923d-7cc871e77a48",
   "metadata": {},
   "outputs": [],
   "source": [
    "test = test.replace('simple', 'short')"
   ]
  },
  {
   "cell_type": "code",
   "execution_count": 197,
   "id": "6403c8db-6973-4f39-bcee-5ce64619e165",
   "metadata": {},
   "outputs": [
    {
     "name": "stdout",
     "output_type": "stream",
     "text": [
      "This is just a short string.\n"
     ]
    }
   ],
   "source": [
    "print(test)\n"
   ]
  },
  {
   "cell_type": "code",
   "execution_count": 199,
   "id": "921268d7-e624-4d6a-9daa-928d6c3228e4",
   "metadata": {},
   "outputs": [
    {
     "data": {
      "text/plain": [
       "2"
      ]
     },
     "execution_count": 199,
     "metadata": {},
     "output_type": "execute_result"
    }
   ],
   "source": [
    "test.count('r')\n"
   ]
  },
  {
   "cell_type": "code",
   "execution_count": 201,
   "id": "d5b1ba7e-4940-4380-a006-8e8bf5527272",
   "metadata": {},
   "outputs": [
    {
     "data": {
      "text/plain": [
       "18"
      ]
     },
     "execution_count": 201,
     "metadata": {},
     "output_type": "execute_result"
    }
   ],
   "source": [
    "test.find('r') \n"
   ]
  },
  {
   "cell_type": "code",
   "execution_count": 203,
   "id": "a1555743-04ac-4440-941c-913485b38066",
   "metadata": {},
   "outputs": [
    {
     "data": {
      "text/plain": [
       "'r'"
      ]
     },
     "execution_count": 203,
     "metadata": {},
     "output_type": "execute_result"
    }
   ],
   "source": [
    "test[18] \n"
   ]
  },
  {
   "cell_type": "code",
   "execution_count": 205,
   "id": "4c617b21-71bc-4d04-9e40-f82e8421d50e",
   "metadata": {},
   "outputs": [
    {
     "data": {
      "text/plain": [
       "['This', 'is', 'just', 'a', 'short', 'string.']"
      ]
     },
     "execution_count": 205,
     "metadata": {},
     "output_type": "execute_result"
    }
   ],
   "source": [
    "test.split() \n"
   ]
  },
  {
   "cell_type": "code",
   "execution_count": 207,
   "id": "eba68731-8a4c-4bc1-8dd7-bb07797b2759",
   "metadata": {},
   "outputs": [
    {
     "data": {
      "text/plain": [
       "['This is just ', ' short string.']"
      ]
     },
     "execution_count": 207,
     "metadata": {},
     "output_type": "execute_result"
    }
   ],
   "source": [
    "test.split('a') \n"
   ]
  },
  {
   "cell_type": "code",
   "execution_count": 209,
   "id": "6032a0f9-417c-4fd2-be5e-e532fcca10a5",
   "metadata": {},
   "outputs": [
    {
     "data": {
      "text/plain": [
       "'This is just  some  short string.'"
      ]
     },
     "execution_count": 209,
     "metadata": {},
     "output_type": "execute_result"
    }
   ],
   "source": [
    "' some '.join(test.split('a')) "
   ]
  },
  {
   "cell_type": "code",
   "execution_count": 211,
   "id": "f2f94ff2-6940-4416-9c61-6332cd1e6944",
   "metadata": {},
   "outputs": [
    {
     "data": {
      "text/plain": [
       "'THIS IS JUST A SHORT STRING.'"
      ]
     },
     "execution_count": 211,
     "metadata": {},
     "output_type": "execute_result"
    }
   ],
   "source": [
    "test.upper() "
   ]
  },
  {
   "cell_type": "code",
   "execution_count": 213,
   "id": "123effbb-feef-4f4b-bbd1-53ffa0a501ac",
   "metadata": {},
   "outputs": [
    {
     "data": {
      "text/plain": [
       "'this is just a short string.'"
      ]
     },
     "execution_count": 213,
     "metadata": {},
     "output_type": "execute_result"
    }
   ],
   "source": [
    "test.lower() "
   ]
  },
  {
   "cell_type": "code",
   "execution_count": 215,
   "id": "2055b1a4-a09a-49a5-bac7-43936716ff24",
   "metadata": {},
   "outputs": [
    {
     "data": {
      "text/plain": [
       "'This is just a short string.'"
      ]
     },
     "execution_count": 215,
     "metadata": {},
     "output_type": "execute_result"
    }
   ],
   "source": [
    "test.lower().capitalize()"
   ]
  },
  {
   "cell_type": "code",
   "execution_count": 217,
   "id": "c4ad74e0-0b6d-4953-9ce2-67ff4f39c667",
   "metadata": {},
   "outputs": [
    {
     "data": {
      "text/plain": [
       "'This Is Just A Short String.'"
      ]
     },
     "execution_count": 217,
     "metadata": {},
     "output_type": "execute_result"
    }
   ],
   "source": [
    "test.title()"
   ]
  },
  {
   "cell_type": "code",
   "execution_count": 219,
   "id": "eeb5eb56-681f-4ce2-9c4c-90caf8052cb1",
   "metadata": {},
   "outputs": [
    {
     "data": {
      "text/plain": [
       "'tHIS IS JUST A SHORT STRING.'"
      ]
     },
     "execution_count": 219,
     "metadata": {},
     "output_type": "execute_result"
    }
   ],
   "source": [
    "test.swapcase()"
   ]
  },
  {
   "cell_type": "code",
   "execution_count": 221,
   "id": "765debaa-e4be-4b02-953d-decde6cb5a08",
   "metadata": {},
   "outputs": [
    {
     "data": {
      "text/plain": [
       "True"
      ]
     },
     "execution_count": 221,
     "metadata": {},
     "output_type": "execute_result"
    }
   ],
   "source": [
    "'UPPER'.isupper()"
   ]
  },
  {
   "cell_type": "code",
   "execution_count": 223,
   "id": "f7b8c608-5b14-4b8e-94d8-84e6f0e5d95c",
   "metadata": {},
   "outputs": [
    {
     "data": {
      "text/plain": [
       "False"
      ]
     },
     "execution_count": 223,
     "metadata": {},
     "output_type": "execute_result"
    }
   ],
   "source": [
    "'UpPEr'.isupper()"
   ]
  },
  {
   "cell_type": "code",
   "execution_count": 225,
   "id": "39ea3328-63e4-43eb-b637-4cad3b754aa4",
   "metadata": {},
   "outputs": [
    {
     "data": {
      "text/plain": [
       "True"
      ]
     },
     "execution_count": 225,
     "metadata": {},
     "output_type": "execute_result"
    }
   ],
   "source": [
    "'lower'.islower()"
   ]
  },
  {
   "cell_type": "code",
   "execution_count": 227,
   "id": "8dc4b11a-e8fa-4e4a-9012-e0805712f43c",
   "metadata": {},
   "outputs": [
    {
     "data": {
      "text/plain": [
       "False"
      ]
     },
     "execution_count": 227,
     "metadata": {},
     "output_type": "execute_result"
    }
   ],
   "source": [
    "'Lower'.islower()"
   ]
  },
  {
   "cell_type": "code",
   "execution_count": 229,
   "id": "01dd1554-e84b-4f8b-af40-872be9f19d45",
   "metadata": {},
   "outputs": [
    {
     "data": {
      "text/plain": [
       "True"
      ]
     },
     "execution_count": 229,
     "metadata": {},
     "output_type": "execute_result"
    }
   ],
   "source": [
    "'This Is A Title'.istitle()"
   ]
  },
  {
   "cell_type": "code",
   "execution_count": 231,
   "id": "97f6eb8c-8efe-42e0-8117-590252207328",
   "metadata": {},
   "outputs": [
    {
     "data": {
      "text/plain": [
       "False"
      ]
     },
     "execution_count": 231,
     "metadata": {},
     "output_type": "execute_result"
    }
   ],
   "source": [
    "'This is A title'.istitle()"
   ]
  },
  {
   "cell_type": "code",
   "execution_count": 233,
   "id": "228aeccf-006a-4e8b-a0f8-b6c36d6a13c3",
   "metadata": {},
   "outputs": [
    {
     "data": {
      "text/plain": [
       "True"
      ]
     },
     "execution_count": 233,
     "metadata": {},
     "output_type": "execute_result"
    }
   ],
   "source": [
    "'aa44'.isalnum()"
   ]
  },
  {
   "cell_type": "code",
   "execution_count": 235,
   "id": "755922d1-7d9d-4280-b2a1-006cbdb10059",
   "metadata": {},
   "outputs": [
    {
     "data": {
      "text/plain": [
       "False"
      ]
     },
     "execution_count": 235,
     "metadata": {},
     "output_type": "execute_result"
    }
   ],
   "source": [
    "'a$44'.isalnum()"
   ]
  },
  {
   "cell_type": "code",
   "execution_count": 237,
   "id": "7a6c3eb5-1d7c-4d5c-8948-f0405cfae70e",
   "metadata": {},
   "outputs": [
    {
     "data": {
      "text/plain": [
       "True"
      ]
     },
     "execution_count": 237,
     "metadata": {},
     "output_type": "execute_result"
    }
   ],
   "source": [
    "'306090'.isdigit()"
   ]
  },
  {
   "cell_type": "code",
   "execution_count": 239,
   "id": "d1e15ccb-341d-4316-ae6f-a9305e6ff881",
   "metadata": {},
   "outputs": [
    {
     "data": {
      "text/plain": [
       "False"
      ]
     },
     "execution_count": 239,
     "metadata": {},
     "output_type": "execute_result"
    }
   ],
   "source": [
    "'30-60-90 Triangle'.isdigit()"
   ]
  },
  {
   "cell_type": "code",
   "execution_count": 241,
   "id": "25c29346-5c3b-4add-9e14-7812cdbbfd53",
   "metadata": {},
   "outputs": [
    {
     "data": {
      "text/plain": [
       "'A string.      '"
      ]
     },
     "execution_count": 241,
     "metadata": {},
     "output_type": "execute_result"
    }
   ],
   "source": [
    "'A string.'.ljust(15)"
   ]
  },
  {
   "cell_type": "code",
   "execution_count": 243,
   "id": "279901d1-df28-4214-8409-3d6340a70379",
   "metadata": {},
   "outputs": [
    {
     "data": {
      "text/plain": [
       "'      A string.'"
      ]
     },
     "execution_count": 243,
     "metadata": {},
     "output_type": "execute_result"
    }
   ],
   "source": [
    "'A string.'.rjust(15)"
   ]
  },
  {
   "cell_type": "code",
   "execution_count": 245,
   "id": "9ded8633-c484-4e36-a3ca-b7152e3426b7",
   "metadata": {},
   "outputs": [
    {
     "data": {
      "text/plain": [
       "'   A string.   '"
      ]
     },
     "execution_count": 245,
     "metadata": {},
     "output_type": "execute_result"
    }
   ],
   "source": [
    "'A string.'.center(15)"
   ]
  },
  {
   "cell_type": "code",
   "execution_count": 247,
   "id": "9f9a57f2-8e06-4590-a863-9649a52fd649",
   "metadata": {},
   "outputs": [
    {
     "data": {
      "text/plain": [
       "'String.'"
      ]
     },
     "execution_count": 247,
     "metadata": {},
     "output_type": "execute_result"
    }
   ],
   "source": [
    "'String.'.rjust(15).strip()"
   ]
  },
  {
   "cell_type": "code",
   "execution_count": 249,
   "id": "15a5ef93-161e-4bf5-8a71-9c42f74aa117",
   "metadata": {},
   "outputs": [
    {
     "data": {
      "text/plain": [
       "'String.'"
      ]
     },
     "execution_count": 249,
     "metadata": {},
     "output_type": "execute_result"
    }
   ],
   "source": [
    "'String.'.ljust(15).rstrip() "
   ]
  },
  {
   "cell_type": "code",
   "execution_count": null,
   "id": "edb760b0-9749-402c-8416-6fcc1290e111",
   "metadata": {},
   "outputs": [],
   "source": []
  }
 ],
 "metadata": {
  "kernelspec": {
   "display_name": "Python 3 (ipykernel)",
   "language": "python",
   "name": "python3"
  },
  "language_info": {
   "codemirror_mode": {
    "name": "ipython",
    "version": 3
   },
   "file_extension": ".py",
   "mimetype": "text/x-python",
   "name": "python",
   "nbconvert_exporter": "python",
   "pygments_lexer": "ipython3",
   "version": "3.11.7"
  }
 },
 "nbformat": 4,
 "nbformat_minor": 5
}
