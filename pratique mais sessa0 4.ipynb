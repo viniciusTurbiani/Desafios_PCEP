{
 "cells": [
  {
   "cell_type": "code",
   "execution_count": 1,
   "id": "2d3dc50e-c6c9-4c96-b235-a3d76fac3d08",
   "metadata": {},
   "outputs": [
    {
     "name": "stdout",
     "output_type": "stream",
     "text": [
      "Alo mundo!\n"
     ]
    }
   ],
   "source": [
    "print('Alo mundo!')"
   ]
  },
  {
   "cell_type": "code",
   "execution_count": 7,
   "id": "b66481b9-6864-4348-b340-469d386bcb9d",
   "metadata": {},
   "outputs": [
    {
     "name": "stdin",
     "output_type": "stream",
     "text": [
      "Informe um numero: 10\n"
     ]
    }
   ],
   "source": [
    "numero = input('Informe um numero:')"
   ]
  },
  {
   "cell_type": "code",
   "execution_count": 9,
   "id": "39027664-e6ea-4f18-b96d-0f95a6bce28a",
   "metadata": {},
   "outputs": [
    {
     "name": "stdout",
     "output_type": "stream",
     "text": [
      "o numero informado foi 10\n"
     ]
    }
   ],
   "source": [
    "print(f'o numero informado foi {numero}')"
   ]
  },
  {
   "cell_type": "code",
   "execution_count": 17,
   "id": "6bb6462d-a714-48be-8efc-ead20cbae315",
   "metadata": {},
   "outputs": [
    {
     "name": "stdin",
     "output_type": "stream",
     "text": [
      "informe o primeiro numero: 10\n"
     ]
    }
   ],
   "source": [
    "numero = int(input('informe o primeiro numero:'))"
   ]
  },
  {
   "cell_type": "code",
   "execution_count": 19,
   "id": "c7770ce3-7c3e-4945-886b-a2ba42565187",
   "metadata": {},
   "outputs": [
    {
     "name": "stdin",
     "output_type": "stream",
     "text": [
      "informe o segundo numero: 20\n"
     ]
    }
   ],
   "source": [
    "numero2 = int(input('informe o segundo numero:'))"
   ]
  },
  {
   "cell_type": "code",
   "execution_count": 21,
   "id": "65fd78b2-fa28-4773-8a8d-5aba2c0232c8",
   "metadata": {},
   "outputs": [
    {
     "name": "stdout",
     "output_type": "stream",
     "text": [
      "a soma de 10 e 20 é 30\n"
     ]
    }
   ],
   "source": [
    "print(f'a soma de {numero} e {numero2} é {numero+numero2}')"
   ]
  },
  {
   "cell_type": "code",
   "execution_count": 23,
   "id": "7059bf96-57b2-4741-b154-0852555c5e94",
   "metadata": {},
   "outputs": [
    {
     "name": "stdin",
     "output_type": "stream",
     "text": [
      "Informe quantos metros deseja converter: 1.5\n"
     ]
    }
   ],
   "source": [
    "converter = float(input('Informe quantos metros deseja converter:'))"
   ]
  },
  {
   "cell_type": "code",
   "execution_count": 25,
   "id": "b8f801aa-c5c3-4084-840a-655c0738730d",
   "metadata": {},
   "outputs": [
    {
     "name": "stdout",
     "output_type": "stream",
     "text": [
      "1.5 em cm serão 150.0 cm\n"
     ]
    }
   ],
   "source": [
    "print(f'{converter} em cm serão {converter * 100} cm')"
   ]
  },
  {
   "cell_type": "code",
   "execution_count": 27,
   "id": "a6f0f63d-d3ba-4355-a6ed-b882a5e80a0b",
   "metadata": {},
   "outputs": [
    {
     "name": "stdin",
     "output_type": "stream",
     "text": [
      "informe quantos kg de peixe foram pegos: 134.5\n"
     ]
    }
   ],
   "source": [
    "quilos = float(input('informe quantos kg de peixe foram pegos:'))"
   ]
  },
  {
   "cell_type": "code",
   "execution_count": 33,
   "id": "9dae7fc2-b7e2-4415-a37d-ca4309008ffd",
   "metadata": {},
   "outputs": [],
   "source": [
    "if quilos - 50 > 50 :\n",
    "    excedente = quilos - 50\n",
    "    multa = excedente * 4"
   ]
  },
  {
   "cell_type": "code",
   "execution_count": 35,
   "id": "aa0ddd14-f0fa-404e-9a46-f916bf2c92e1",
   "metadata": {},
   "outputs": [
    {
     "name": "stdout",
     "output_type": "stream",
     "text": [
      "A quantidade excedente foi de 84.5 kg, a multa será de 338.0\n"
     ]
    }
   ],
   "source": [
    "print(f'A quantidade excedente foi de {excedente} kg, a multa será de {multa}')"
   ]
  },
  {
   "cell_type": "code",
   "execution_count": null,
   "id": "1934ebf1-ef7a-4130-b410-808bdddb3c15",
   "metadata": {},
   "outputs": [],
   "source": []
  }
 ],
 "metadata": {
  "kernelspec": {
   "display_name": "Python 3 (ipykernel)",
   "language": "python",
   "name": "python3"
  },
  "language_info": {
   "codemirror_mode": {
    "name": "ipython",
    "version": 3
   },
   "file_extension": ".py",
   "mimetype": "text/x-python",
   "name": "python",
   "nbconvert_exporter": "python",
   "pygments_lexer": "ipython3",
   "version": "3.11.7"
  }
 },
 "nbformat": 4,
 "nbformat_minor": 5
}
