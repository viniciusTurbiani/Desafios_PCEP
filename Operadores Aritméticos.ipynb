{
 "cells": [
  {
   "cell_type": "code",
   "execution_count": 1,
   "id": "94319b76-34e4-483f-a564-d9dfded71a95",
   "metadata": {},
   "outputs": [],
   "source": [
    "numero_1 = 5"
   ]
  },
  {
   "cell_type": "code",
   "execution_count": 3,
   "id": "7e5b9320-8ef4-4572-a38e-23c698a48442",
   "metadata": {},
   "outputs": [],
   "source": [
    "numero_2 = 2"
   ]
  },
  {
   "cell_type": "code",
   "execution_count": 5,
   "id": "56519f96-874b-4bb5-9b0c-47898c59e5a6",
   "metadata": {},
   "outputs": [],
   "source": [
    "soma = numero_1 + numero_2"
   ]
  },
  {
   "cell_type": "code",
   "execution_count": 7,
   "id": "65ea17e1-d545-4262-a8ef-9dc1c98f9f4f",
   "metadata": {},
   "outputs": [
    {
     "data": {
      "text/plain": [
       "7"
      ]
     },
     "execution_count": 7,
     "metadata": {},
     "output_type": "execute_result"
    }
   ],
   "source": [
    "soma"
   ]
  },
  {
   "cell_type": "code",
   "execution_count": 9,
   "id": "ee3dfb1b-e7c3-4528-b6c0-f479abc0f3c4",
   "metadata": {},
   "outputs": [],
   "source": [
    "subtracao = numero_1 - numero_2"
   ]
  },
  {
   "cell_type": "code",
   "execution_count": 11,
   "id": "fe5e0a41-b875-41bc-a0d6-f14d4e9bda65",
   "metadata": {},
   "outputs": [
    {
     "data": {
      "text/plain": [
       "3"
      ]
     },
     "execution_count": 11,
     "metadata": {},
     "output_type": "execute_result"
    }
   ],
   "source": [
    "subtracao"
   ]
  },
  {
   "cell_type": "code",
   "execution_count": 13,
   "id": "e23896f5-1fb6-4c2c-a801-5e65e3f4ef8c",
   "metadata": {},
   "outputs": [],
   "source": [
    "multiplicacao = numero_1 * numero_2"
   ]
  },
  {
   "cell_type": "code",
   "execution_count": 15,
   "id": "101cc0be-36fe-4abd-b020-b0e685b2b7d2",
   "metadata": {},
   "outputs": [
    {
     "data": {
      "text/plain": [
       "10"
      ]
     },
     "execution_count": 15,
     "metadata": {},
     "output_type": "execute_result"
    }
   ],
   "source": [
    "multiplicacao"
   ]
  },
  {
   "cell_type": "code",
   "execution_count": 17,
   "id": "f0551205-d5cc-42a5-a4fb-283988ba905c",
   "metadata": {},
   "outputs": [],
   "source": [
    "divisao = numero_1 /numero_2"
   ]
  },
  {
   "cell_type": "code",
   "execution_count": 19,
   "id": "9f770b1f-4907-46a4-9fed-dcca00a405cc",
   "metadata": {},
   "outputs": [
    {
     "data": {
      "text/plain": [
       "2.5"
      ]
     },
     "execution_count": 19,
     "metadata": {},
     "output_type": "execute_result"
    }
   ],
   "source": [
    "divisao"
   ]
  },
  {
   "cell_type": "code",
   "execution_count": 21,
   "id": "03a23191-2c5b-4ad2-a475-e5811b0e0335",
   "metadata": {},
   "outputs": [
    {
     "data": {
      "text/plain": [
       "5.0"
      ]
     },
     "execution_count": 21,
     "metadata": {},
     "output_type": "execute_result"
    }
   ],
   "source": [
    "10 / 2"
   ]
  },
  {
   "cell_type": "code",
   "execution_count": 23,
   "id": "1ff6e0b2-5461-4100-af84-ac4acb9e019c",
   "metadata": {},
   "outputs": [],
   "source": [
    "divisao_inteira = numero_1 // numero_2"
   ]
  },
  {
   "cell_type": "code",
   "execution_count": 25,
   "id": "b4df434c-ac0d-4d98-ad9c-5511a317c564",
   "metadata": {},
   "outputs": [
    {
     "data": {
      "text/plain": [
       "2"
      ]
     },
     "execution_count": 25,
     "metadata": {},
     "output_type": "execute_result"
    }
   ],
   "source": [
    "divisao_inteira"
   ]
  },
  {
   "cell_type": "code",
   "execution_count": 27,
   "id": "4f80c740-a76e-4d83-8c01-3f5a1a1ecdb9",
   "metadata": {},
   "outputs": [],
   "source": [
    "modulo = numero_1 % numero_2"
   ]
  },
  {
   "cell_type": "code",
   "execution_count": 29,
   "id": "1c820027-2f1e-42d0-ae2a-e616c099b389",
   "metadata": {},
   "outputs": [
    {
     "data": {
      "text/plain": [
       "1"
      ]
     },
     "execution_count": 29,
     "metadata": {},
     "output_type": "execute_result"
    }
   ],
   "source": [
    "modulo"
   ]
  },
  {
   "cell_type": "code",
   "execution_count": 33,
   "id": "1daf2b1a-d776-49d1-93ea-c877ba7908a0",
   "metadata": {},
   "outputs": [
    {
     "data": {
      "text/plain": [
       "27.0"
      ]
     },
     "execution_count": 33,
     "metadata": {},
     "output_type": "execute_result"
    }
   ],
   "source": [
    "10 + 5 * 3 + 10 / 5"
   ]
  },
  {
   "cell_type": "code",
   "execution_count": 37,
   "id": "2c41dff7-a472-4d63-bccc-df1591f7deb8",
   "metadata": {},
   "outputs": [
    {
     "data": {
      "text/plain": [
       "11.0"
      ]
     },
     "execution_count": 37,
     "metadata": {},
     "output_type": "execute_result"
    }
   ],
   "source": [
    "((10 + 5) * 3 + 10) / 5"
   ]
  },
  {
   "cell_type": "code",
   "execution_count": 39,
   "id": "8fb6d7dd-d38e-4e4e-89b4-53886df0beff",
   "metadata": {},
   "outputs": [],
   "source": [
    "exponenciacao = numero_1 ** numero_2"
   ]
  },
  {
   "cell_type": "code",
   "execution_count": 41,
   "id": "7e8c7330-5003-4ec3-8eee-83485469d092",
   "metadata": {},
   "outputs": [
    {
     "data": {
      "text/plain": [
       "25"
      ]
     },
     "execution_count": 41,
     "metadata": {},
     "output_type": "execute_result"
    }
   ],
   "source": [
    "exponenciacao"
   ]
  },
  {
   "cell_type": "code",
   "execution_count": 43,
   "id": "d3489ae4-ed95-46db-a976-846cd16f2f2f",
   "metadata": {},
   "outputs": [
    {
     "data": {
      "text/plain": [
       "'olamundo'"
      ]
     },
     "execution_count": 43,
     "metadata": {},
     "output_type": "execute_result"
    }
   ],
   "source": [
    "\"ola\" + \"mundo\""
   ]
  },
  {
   "cell_type": "code",
   "execution_count": 45,
   "id": "eaae33dc-69b2-466c-a7cb-f5855d2eb4e8",
   "metadata": {},
   "outputs": [
    {
     "data": {
      "text/plain": [
       "'olamundo!'"
      ]
     },
     "execution_count": 45,
     "metadata": {},
     "output_type": "execute_result"
    }
   ],
   "source": [
    "\"ola\" + \"mundo\" + \"!\""
   ]
  },
  {
   "cell_type": "code",
   "execution_count": 47,
   "id": "360107b0-99ff-4126-b403-709cc624166e",
   "metadata": {},
   "outputs": [
    {
     "data": {
      "text/plain": [
       "'curso de pythoncurso de pythoncurso de pythoncurso de pythoncurso de pythoncurso de pythoncurso de pythoncurso de pythoncurso de pythoncurso de python'"
      ]
     },
     "execution_count": 47,
     "metadata": {},
     "output_type": "execute_result"
    }
   ],
   "source": [
    "\"curso de python\"*10"
   ]
  },
  {
   "cell_type": "code",
   "execution_count": 49,
   "id": "67f8a170-7ffc-40c5-a18d-705a716dbdf1",
   "metadata": {},
   "outputs": [],
   "source": [
    "peso = 65"
   ]
  },
  {
   "cell_type": "code",
   "execution_count": 51,
   "id": "9c5f8c54-7371-4a87-b617-d6453e9cb42b",
   "metadata": {},
   "outputs": [],
   "source": [
    "altura = 1.7"
   ]
  },
  {
   "cell_type": "code",
   "execution_count": 53,
   "id": "7c4b6595-8604-42fb-840c-ca7082a5ae8f",
   "metadata": {},
   "outputs": [],
   "source": [
    "imc = peso / (altura ** 2)"
   ]
  },
  {
   "cell_type": "code",
   "execution_count": 55,
   "id": "03cc8cb8-e8e4-4716-88f6-03d27d6880fc",
   "metadata": {},
   "outputs": [
    {
     "data": {
      "text/plain": [
       "22.49134948096886"
      ]
     },
     "execution_count": 55,
     "metadata": {},
     "output_type": "execute_result"
    }
   ],
   "source": [
    "imc"
   ]
  },
  {
   "cell_type": "code",
   "execution_count": 57,
   "id": "4c7172ec-2ebd-4202-be1a-18efdeb70522",
   "metadata": {},
   "outputs": [],
   "source": [
    "imc = peso / (altura * altura)\n"
   ]
  },
  {
   "cell_type": "code",
   "execution_count": 59,
   "id": "0dff119b-a0af-4dcc-96e8-3c5367d90141",
   "metadata": {},
   "outputs": [
    {
     "data": {
      "text/plain": [
       "22.49134948096886"
      ]
     },
     "execution_count": 59,
     "metadata": {},
     "output_type": "execute_result"
    }
   ],
   "source": [
    "imc"
   ]
  },
  {
   "cell_type": "code",
   "execution_count": null,
   "id": "68dad454-bc15-483c-a1e0-11592b491ac3",
   "metadata": {},
   "outputs": [],
   "source": []
  }
 ],
 "metadata": {
  "kernelspec": {
   "display_name": "Python 3 (ipykernel)",
   "language": "python",
   "name": "python3"
  },
  "language_info": {
   "codemirror_mode": {
    "name": "ipython",
    "version": 3
   },
   "file_extension": ".py",
   "mimetype": "text/x-python",
   "name": "python",
   "nbconvert_exporter": "python",
   "pygments_lexer": "ipython3",
   "version": "3.11.7"
  }
 },
 "nbformat": 4,
 "nbformat_minor": 5
}
