{
 "cells": [
  {
   "cell_type": "code",
   "execution_count": 7,
   "id": "cc20c992-8b89-4f50-99a7-202cfa306421",
   "metadata": {},
   "outputs": [
    {
     "name": "stdin",
     "output_type": "stream",
     "text": [
      "Qual pais ganhou a copa? Brasil\n"
     ]
    }
   ],
   "source": [
    "pais = input('Qual pais ganhou a copa?')"
   ]
  },
  {
   "cell_type": "code",
   "execution_count": 9,
   "id": "da72d0c5-050c-4a7a-960d-7bf6ea02f8a6",
   "metadata": {},
   "outputs": [
    {
     "name": "stdin",
     "output_type": "stream",
     "text": [
      "Qual ano o pais ganhou a copa? 2002\n"
     ]
    }
   ],
   "source": [
    "ano = int(input('Qual ano o pais ganhou a copa?'))"
   ]
  },
  {
   "cell_type": "code",
   "execution_count": 11,
   "id": "5cf0a8ad-abb5-4b50-bccf-8b343767999c",
   "metadata": {},
   "outputs": [
    {
     "data": {
      "text/plain": [
       "'O Brasil ganhou a copa do mundo em 2002'"
      ]
     },
     "execution_count": 11,
     "metadata": {},
     "output_type": "execute_result"
    }
   ],
   "source": [
    "f'O {pais} ganhou a copa do mundo em {ano}'"
   ]
  },
  {
   "cell_type": "code",
   "execution_count": 31,
   "id": "abf918f6-80d9-4284-b79f-660efd12dbbe",
   "metadata": {},
   "outputs": [
    {
     "data": {
      "text/plain": [
       "'O Brasil ganhou a copa do mundo em 2002'"
      ]
     },
     "execution_count": 31,
     "metadata": {},
     "output_type": "execute_result"
    }
   ],
   "source": [
    "'O {} ganhou a copa do mundo em {}'.format(pais,ano)"
   ]
  },
  {
   "cell_type": "code",
   "execution_count": 33,
   "id": "5ddc186f-1b34-412f-a1e2-575814ff3150",
   "metadata": {},
   "outputs": [
    {
     "data": {
      "text/plain": [
       "'O Brasil ganhou a copa do mundo em 2002'"
      ]
     },
     "execution_count": 33,
     "metadata": {},
     "output_type": "execute_result"
    }
   ],
   "source": [
    "'O {pais_qualquer} ganhou a copa do mundo em {ano_qualquer}'.format(pais_qualquer=pais,ano_qualquer=ano)"
   ]
  },
  {
   "cell_type": "code",
   "execution_count": 13,
   "id": "3c6fbe75-3397-49c8-9c20-c410af83ad4e",
   "metadata": {},
   "outputs": [],
   "source": [
    "pi = 3.14159"
   ]
  },
  {
   "cell_type": "code",
   "execution_count": 17,
   "id": "1ab69c76-59c8-49ab-81a5-4f5a5f7abbf7",
   "metadata": {},
   "outputs": [],
   "source": [
    "resultado = f'O valor aproxinmado de pi é {pi}'"
   ]
  },
  {
   "cell_type": "code",
   "execution_count": 19,
   "id": "0a0c510e-7970-4d24-9056-e31c26001ab9",
   "metadata": {},
   "outputs": [
    {
     "data": {
      "text/plain": [
       "'O valor aproxinmado de pi é 3.14159'"
      ]
     },
     "execution_count": 19,
     "metadata": {},
     "output_type": "execute_result"
    }
   ],
   "source": [
    "resultado"
   ]
  },
  {
   "cell_type": "code",
   "execution_count": 21,
   "id": "ac6ce523-654c-466f-a376-2983c514ed01",
   "metadata": {},
   "outputs": [
    {
     "data": {
      "text/plain": [
       "'O valor aproxinmado de pi é 3.14'"
      ]
     },
     "execution_count": 21,
     "metadata": {},
     "output_type": "execute_result"
    }
   ],
   "source": [
    "f'O valor aproxinmado de pi é {pi:.2f}'"
   ]
  },
  {
   "cell_type": "code",
   "execution_count": 23,
   "id": "680e084e-f797-4622-a8fb-045a954e53a4",
   "metadata": {},
   "outputs": [],
   "source": [
    "valor1 = 'Programador'"
   ]
  },
  {
   "cell_type": "code",
   "execution_count": 25,
   "id": "ed40e4ec-865f-4301-9315-1a74cb5dc220",
   "metadata": {},
   "outputs": [],
   "source": [
    "valor2 = 'Aventureiro'"
   ]
  },
  {
   "cell_type": "code",
   "execution_count": 27,
   "id": "2f1afa78-8906-402f-bf7d-87374250bc36",
   "metadata": {},
   "outputs": [
    {
     "data": {
      "text/plain": [
       "'Programador         Aventureiro         '"
      ]
     },
     "execution_count": 27,
     "metadata": {},
     "output_type": "execute_result"
    }
   ],
   "source": [
    "f'{valor1:20}{valor2:20}'"
   ]
  },
  {
   "cell_type": "code",
   "execution_count": 29,
   "id": "307cccb1-bfa9-4964-8067-bc9d6f7b551e",
   "metadata": {},
   "outputs": [
    {
     "data": {
      "text/plain": [
       "'ProgramadorAventureiro'"
      ]
     },
     "execution_count": 29,
     "metadata": {},
     "output_type": "execute_result"
    }
   ],
   "source": [
    "f'{valor1:5}{valor2:5}'"
   ]
  },
  {
   "cell_type": "code",
   "execution_count": 35,
   "id": "662c7f17-29ba-4504-9195-bf203350e6df",
   "metadata": {},
   "outputs": [],
   "source": [
    "nome = 'vinicius'"
   ]
  },
  {
   "cell_type": "code",
   "execution_count": 37,
   "id": "6b0dbc78-9f3b-4d9b-b270-684347b92c25",
   "metadata": {},
   "outputs": [],
   "source": [
    "sobrenome = 'turbiani'"
   ]
  },
  {
   "cell_type": "code",
   "execution_count": 39,
   "id": "cc95b0f6-077d-4af8-9f1a-39ab73d96fc7",
   "metadata": {},
   "outputs": [
    {
     "data": {
      "text/plain": [
       "'Nome: vinicius                                 | Sobrenome: turbiani                                '"
      ]
     },
     "execution_count": 39,
     "metadata": {},
     "output_type": "execute_result"
    }
   ],
   "source": [
    "f'Nome: {nome:<40} | Sobrenome: {sobrenome:<40}'"
   ]
  },
  {
   "cell_type": "code",
   "execution_count": 41,
   "id": "901b60fe-b8f1-4a09-a19f-c2f52a2a0a76",
   "metadata": {},
   "outputs": [
    {
     "data": {
      "text/plain": [
       "'Nome:                                 vinicius | Sobrenome:                                 turbiani'"
      ]
     },
     "execution_count": 41,
     "metadata": {},
     "output_type": "execute_result"
    }
   ],
   "source": [
    "f'Nome: {nome:>40} | Sobrenome: {sobrenome:>40}'"
   ]
  },
  {
   "cell_type": "code",
   "execution_count": 43,
   "id": "e1b468c1-d96d-4902-acbc-cab945842b43",
   "metadata": {},
   "outputs": [
    {
     "data": {
      "text/plain": [
       "'Nome:                 vinicius                 | Sobrenome:                 turbiani                '"
      ]
     },
     "execution_count": 43,
     "metadata": {},
     "output_type": "execute_result"
    }
   ],
   "source": [
    "f'Nome: {nome:^40} | Sobrenome: {sobrenome:^40}'"
   ]
  },
  {
   "cell_type": "code",
   "execution_count": 45,
   "id": "181a7295-8aa8-48a3-a5e6-d9442a07c310",
   "metadata": {},
   "outputs": [
    {
     "data": {
      "text/plain": [
       "'Nome: ================vinicius================ | Sobrenome: ================turbiani================'"
      ]
     },
     "execution_count": 45,
     "metadata": {},
     "output_type": "execute_result"
    }
   ],
   "source": [
    "f'Nome: {nome:=^40} | Sobrenome: {sobrenome:=^40}'"
   ]
  },
  {
   "cell_type": "code",
   "execution_count": 47,
   "id": "1e17974a-cdd8-47ae-902d-b715fb718237",
   "metadata": {},
   "outputs": [
    {
     "data": {
      "text/plain": [
       "'00000000012'"
      ]
     },
     "execution_count": 47,
     "metadata": {},
     "output_type": "execute_result"
    }
   ],
   "source": [
    "'12'.zfill(11\n",
    "        )"
   ]
  },
  {
   "cell_type": "code",
   "execution_count": 49,
   "id": "36f6073b-6d2d-4298-add3-c682f1248ebc",
   "metadata": {},
   "outputs": [
    {
     "data": {
      "text/plain": [
       "'00012345678'"
      ]
     },
     "execution_count": 49,
     "metadata": {},
     "output_type": "execute_result"
    }
   ],
   "source": [
    "'12345678'.zfill(11)"
   ]
  },
  {
   "cell_type": "code",
   "execution_count": 53,
   "id": "62d6d52b-5ba2-4c2a-96d2-6a8b6a77f93c",
   "metadata": {},
   "outputs": [
    {
     "data": {
      "text/plain": [
       "'10.0%'"
      ]
     },
     "execution_count": 53,
     "metadata": {},
     "output_type": "execute_result"
    }
   ],
   "source": [
    "f'{0.10*100}%' #errado"
   ]
  },
  {
   "cell_type": "code",
   "execution_count": 59,
   "id": "321a375f-621c-4401-a661-4f9442b93269",
   "metadata": {},
   "outputs": [
    {
     "data": {
      "text/plain": [
       "'taxa: 33.33%'"
      ]
     },
     "execution_count": 59,
     "metadata": {},
     "output_type": "execute_result"
    }
   ],
   "source": [
    "f'taxa: {1/3 :.2%}'"
   ]
  },
  {
   "cell_type": "code",
   "execution_count": null,
   "id": "3bbaeb2d-68a1-475d-a42e-cfab2fd04c04",
   "metadata": {},
   "outputs": [],
   "source": []
  }
 ],
 "metadata": {
  "kernelspec": {
   "display_name": "Python 3 (ipykernel)",
   "language": "python",
   "name": "python3"
  },
  "language_info": {
   "codemirror_mode": {
    "name": "ipython",
    "version": 3
   },
   "file_extension": ".py",
   "mimetype": "text/x-python",
   "name": "python",
   "nbconvert_exporter": "python",
   "pygments_lexer": "ipython3",
   "version": "3.11.7"
  }
 },
 "nbformat": 4,
 "nbformat_minor": 5
}
