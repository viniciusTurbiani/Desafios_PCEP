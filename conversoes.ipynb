{
 "cells": [
  {
   "cell_type": "code",
   "execution_count": 1,
   "id": "25d964e9-0e40-42ad-85ea-2bb3d209d9cf",
   "metadata": {},
   "outputs": [
    {
     "data": {
      "text/plain": [
       "0"
      ]
     },
     "execution_count": 1,
     "metadata": {},
     "output_type": "execute_result"
    }
   ],
   "source": [
    "int()"
   ]
  },
  {
   "cell_type": "code",
   "execution_count": 3,
   "id": "3d6531ac-f732-4177-9b2c-4a380bc75e60",
   "metadata": {},
   "outputs": [
    {
     "ename": "ValueError",
     "evalue": "invalid literal for int() with base 10: 'a'",
     "output_type": "error",
     "traceback": [
      "\u001b[1;31m---------------------------------------------------------------------------\u001b[0m",
      "\u001b[1;31mValueError\u001b[0m                                Traceback (most recent call last)",
      "Cell \u001b[1;32mIn[3], line 1\u001b[0m\n\u001b[1;32m----> 1\u001b[0m \u001b[38;5;28mint\u001b[39m(\u001b[38;5;124m'\u001b[39m\u001b[38;5;124ma\u001b[39m\u001b[38;5;124m'\u001b[39m)\n",
      "\u001b[1;31mValueError\u001b[0m: invalid literal for int() with base 10: 'a'"
     ]
    }
   ],
   "source": [
    "int('a')"
   ]
  },
  {
   "cell_type": "code",
   "execution_count": 5,
   "id": "4af00ec0-039d-4b32-92c4-2a7c7ae2dccf",
   "metadata": {},
   "outputs": [
    {
     "data": {
      "text/plain": [
       "234"
      ]
     },
     "execution_count": 5,
     "metadata": {},
     "output_type": "execute_result"
    }
   ],
   "source": [
    "int('234')"
   ]
  },
  {
   "cell_type": "code",
   "execution_count": 7,
   "id": "c75320ff-1aa4-470b-99c2-5ff5a342ddda",
   "metadata": {},
   "outputs": [],
   "source": [
    "numero = int('234')"
   ]
  },
  {
   "cell_type": "code",
   "execution_count": 9,
   "id": "13b92e1e-c245-4e88-9585-0762d7d16065",
   "metadata": {},
   "outputs": [
    {
     "data": {
      "text/plain": [
       "int"
      ]
     },
     "execution_count": 9,
     "metadata": {},
     "output_type": "execute_result"
    }
   ],
   "source": [
    "type(numero)"
   ]
  },
  {
   "cell_type": "code",
   "execution_count": 11,
   "id": "e79c1f4b-3c64-48e8-91f9-70eafe53ffef",
   "metadata": {},
   "outputs": [
    {
     "data": {
      "text/plain": [
       "10"
      ]
     },
     "execution_count": 11,
     "metadata": {},
     "output_type": "execute_result"
    }
   ],
   "source": [
    "int(10.47)"
   ]
  },
  {
   "cell_type": "code",
   "execution_count": 13,
   "id": "054857e3-01bc-474a-945c-ed6ace01f858",
   "metadata": {},
   "outputs": [
    {
     "data": {
      "text/plain": [
       "104"
      ]
     },
     "execution_count": 13,
     "metadata": {},
     "output_type": "execute_result"
    }
   ],
   "source": [
    "int(104.999999999999)"
   ]
  },
  {
   "cell_type": "code",
   "execution_count": 15,
   "id": "195f5c91-8591-4c7e-8b57-e989c9bb971e",
   "metadata": {},
   "outputs": [
    {
     "data": {
      "text/plain": [
       "4"
      ]
     },
     "execution_count": 15,
     "metadata": {},
     "output_type": "execute_result"
    }
   ],
   "source": [
    "int('4')"
   ]
  },
  {
   "cell_type": "code",
   "execution_count": 17,
   "id": "a79ea39e-7a83-4a4d-87f6-a75440c85f2d",
   "metadata": {},
   "outputs": [
    {
     "data": {
      "text/plain": [
       "-9"
      ]
     },
     "execution_count": 17,
     "metadata": {},
     "output_type": "execute_result"
    }
   ],
   "source": [
    "int('-9')"
   ]
  },
  {
   "cell_type": "code",
   "execution_count": 19,
   "id": "88147a77-86fc-466f-86cc-51bfa109edd9",
   "metadata": {},
   "outputs": [
    {
     "ename": "ValueError",
     "evalue": "invalid literal for int() with base 10: '104.87'",
     "output_type": "error",
     "traceback": [
      "\u001b[1;31m---------------------------------------------------------------------------\u001b[0m",
      "\u001b[1;31mValueError\u001b[0m                                Traceback (most recent call last)",
      "Cell \u001b[1;32mIn[19], line 1\u001b[0m\n\u001b[1;32m----> 1\u001b[0m \u001b[38;5;28mint\u001b[39m(\u001b[38;5;124m'\u001b[39m\u001b[38;5;124m104.87\u001b[39m\u001b[38;5;124m'\u001b[39m)\n",
      "\u001b[1;31mValueError\u001b[0m: invalid literal for int() with base 10: '104.87'"
     ]
    }
   ],
   "source": [
    "int('104.87')"
   ]
  },
  {
   "cell_type": "code",
   "execution_count": 21,
   "id": "65c8a945-448c-42e9-a7d4-6305c25724b5",
   "metadata": {},
   "outputs": [
    {
     "data": {
      "text/plain": [
       "104.87"
      ]
     },
     "execution_count": 21,
     "metadata": {},
     "output_type": "execute_result"
    }
   ],
   "source": [
    "float('104.87')"
   ]
  },
  {
   "cell_type": "code",
   "execution_count": 23,
   "id": "d9c00904-3865-4ddc-bad4-921f624ff354",
   "metadata": {},
   "outputs": [
    {
     "data": {
      "text/plain": [
       "4.0"
      ]
     },
     "execution_count": 23,
     "metadata": {},
     "output_type": "execute_result"
    }
   ],
   "source": [
    "float(4)"
   ]
  },
  {
   "cell_type": "code",
   "execution_count": 25,
   "id": "2a8ff627-8c7c-4b49-b88b-147e3f7f9c35",
   "metadata": {},
   "outputs": [
    {
     "data": {
      "text/plain": [
       "inf"
      ]
     },
     "execution_count": 25,
     "metadata": {},
     "output_type": "execute_result"
    }
   ],
   "source": [
    "float('inf')"
   ]
  },
  {
   "cell_type": "code",
   "execution_count": 27,
   "id": "c2078121-2087-40d7-9044-b18987aa2035",
   "metadata": {},
   "outputs": [
    {
     "data": {
      "text/plain": [
       "-inf"
      ]
     },
     "execution_count": 27,
     "metadata": {},
     "output_type": "execute_result"
    }
   ],
   "source": [
    "float('-inf')"
   ]
  },
  {
   "cell_type": "code",
   "execution_count": 29,
   "id": "d609a7fd-bef1-4dd5-b158-e8892890b6f7",
   "metadata": {},
   "outputs": [
    {
     "data": {
      "text/plain": [
       "0.001"
      ]
     },
     "execution_count": 29,
     "metadata": {},
     "output_type": "execute_result"
    }
   ],
   "source": [
    "float('1e-3')"
   ]
  },
  {
   "cell_type": "code",
   "execution_count": 31,
   "id": "82901916-51a6-4434-83e5-a339b3c783ee",
   "metadata": {},
   "outputs": [
    {
     "data": {
      "text/plain": [
       "500.0"
      ]
     },
     "execution_count": 31,
     "metadata": {},
     "output_type": "execute_result"
    }
   ],
   "source": [
    "float('5e2')"
   ]
  },
  {
   "cell_type": "code",
   "execution_count": 33,
   "id": "daf208ca-6283-4ed7-ac33-554dc47d0df4",
   "metadata": {},
   "outputs": [
    {
     "data": {
      "text/plain": [
       "4000000.0"
      ]
     },
     "execution_count": 33,
     "metadata": {},
     "output_type": "execute_result"
    }
   ],
   "source": [
    "float('4E6')\n"
   ]
  },
  {
   "cell_type": "code",
   "execution_count": 35,
   "id": "d794966c-b31c-4960-85c1-4c50446dbbc5",
   "metadata": {},
   "outputs": [
    {
     "data": {
      "text/plain": [
       "0j"
      ]
     },
     "execution_count": 35,
     "metadata": {},
     "output_type": "execute_result"
    }
   ],
   "source": [
    "complex()"
   ]
  },
  {
   "cell_type": "code",
   "execution_count": 37,
   "id": "3ac02c8d-72ca-44f4-a664-ff9920f72c98",
   "metadata": {},
   "outputs": [
    {
     "data": {
      "text/plain": [
       "(3.4+0j)"
      ]
     },
     "execution_count": 37,
     "metadata": {},
     "output_type": "execute_result"
    }
   ],
   "source": [
    "complex('3.4')"
   ]
  },
  {
   "cell_type": "code",
   "execution_count": 39,
   "id": "fcaad9e3-0576-418a-97eb-b174715b01cb",
   "metadata": {},
   "outputs": [
    {
     "data": {
      "text/plain": [
       "(3.4+2j)"
      ]
     },
     "execution_count": 39,
     "metadata": {},
     "output_type": "execute_result"
    }
   ],
   "source": [
    "complex(3.4,2)\n"
   ]
  },
  {
   "cell_type": "code",
   "execution_count": 41,
   "id": "4dafbdc1-d2d0-40c9-9c1c-b7d6ab5201f0",
   "metadata": {},
   "outputs": [
    {
     "data": {
      "text/plain": [
       "(3.4-2j)"
      ]
     },
     "execution_count": 41,
     "metadata": {},
     "output_type": "execute_result"
    }
   ],
   "source": [
    "complex(3.4,-2)"
   ]
  },
  {
   "cell_type": "code",
   "execution_count": 45,
   "id": "9a3699aa-c239-41c1-af7f-e5ed7df14099",
   "metadata": {},
   "outputs": [
    {
     "data": {
      "text/plain": [
       "(3.4-20j)"
      ]
     },
     "execution_count": 45,
     "metadata": {},
     "output_type": "execute_result"
    }
   ],
   "source": [
    "complex(3.4,-20)\n"
   ]
  },
  {
   "cell_type": "code",
   "execution_count": 47,
   "id": "d1e5c42f-9d17-48fa-8c61-f761d52c0fbd",
   "metadata": {},
   "outputs": [
    {
     "data": {
      "text/plain": [
       "'123455'"
      ]
     },
     "execution_count": 47,
     "metadata": {},
     "output_type": "execute_result"
    }
   ],
   "source": [
    "str('123455')"
   ]
  },
  {
   "cell_type": "code",
   "execution_count": 49,
   "id": "dbd59f22-e46d-41c7-a3fa-531e2f3b43d2",
   "metadata": {},
   "outputs": [
    {
     "data": {
      "text/plain": [
       "'123455'"
      ]
     },
     "execution_count": 49,
     "metadata": {},
     "output_type": "execute_result"
    }
   ],
   "source": [
    "str(123455)\n"
   ]
  },
  {
   "cell_type": "code",
   "execution_count": 51,
   "id": "44c3f892-d3db-4d09-a9d5-e589541ca7bc",
   "metadata": {},
   "outputs": [
    {
     "data": {
      "text/plain": [
       "'123455.34534'"
      ]
     },
     "execution_count": 51,
     "metadata": {},
     "output_type": "execute_result"
    }
   ],
   "source": [
    "str(123455.34534)"
   ]
  },
  {
   "cell_type": "code",
   "execution_count": 53,
   "id": "c51c1815-06eb-43d2-aae3-1a3e4b16e98b",
   "metadata": {},
   "outputs": [
    {
     "data": {
      "text/plain": [
       "'123123523.32452352'"
      ]
     },
     "execution_count": 53,
     "metadata": {},
     "output_type": "execute_result"
    }
   ],
   "source": [
    "str('123123523.32452352')"
   ]
  },
  {
   "cell_type": "code",
   "execution_count": 55,
   "id": "3a489031-0773-4e7e-b446-78b500179a05",
   "metadata": {},
   "outputs": [
    {
     "data": {
      "text/plain": [
       "'(3.4+2j)'"
      ]
     },
     "execution_count": 55,
     "metadata": {},
     "output_type": "execute_result"
    }
   ],
   "source": [
    "str(3.4 + 2j)"
   ]
  },
  {
   "cell_type": "code",
   "execution_count": 57,
   "id": "e9330530-7c23-4097-8745-33848569f587",
   "metadata": {},
   "outputs": [
    {
     "data": {
      "text/plain": [
       "'True'"
      ]
     },
     "execution_count": 57,
     "metadata": {},
     "output_type": "execute_result"
    }
   ],
   "source": [
    "str(True)"
   ]
  },
  {
   "cell_type": "code",
   "execution_count": 59,
   "id": "4b7c0b21-95df-4a0a-bea3-d118bdb4d04e",
   "metadata": {},
   "outputs": [
    {
     "data": {
      "text/plain": [
       "False"
      ]
     },
     "execution_count": 59,
     "metadata": {},
     "output_type": "execute_result"
    }
   ],
   "source": [
    "bool()"
   ]
  },
  {
   "cell_type": "code",
   "execution_count": 61,
   "id": "0220c54a-de99-4f53-a7aa-44c1e08ed2fc",
   "metadata": {},
   "outputs": [
    {
     "data": {
      "text/plain": [
       "True"
      ]
     },
     "execution_count": 61,
     "metadata": {},
     "output_type": "execute_result"
    }
   ],
   "source": [
    "bool(1)"
   ]
  },
  {
   "cell_type": "code",
   "execution_count": 63,
   "id": "c8729246-a89c-4d5f-8857-9e5408a58863",
   "metadata": {},
   "outputs": [
    {
     "data": {
      "text/plain": [
       "True"
      ]
     },
     "execution_count": 63,
     "metadata": {},
     "output_type": "execute_result"
    }
   ],
   "source": [
    "bool('oi')"
   ]
  },
  {
   "cell_type": "code",
   "execution_count": null,
   "id": "1a74b502-190a-4dee-840f-99617adb9a47",
   "metadata": {},
   "outputs": [],
   "source": []
  }
 ],
 "metadata": {
  "kernelspec": {
   "display_name": "Python 3 (ipykernel)",
   "language": "python",
   "name": "python3"
  },
  "language_info": {
   "codemirror_mode": {
    "name": "ipython",
    "version": 3
   },
   "file_extension": ".py",
   "mimetype": "text/x-python",
   "name": "python",
   "nbconvert_exporter": "python",
   "pygments_lexer": "ipython3",
   "version": "3.11.7"
  }
 },
 "nbformat": 4,
 "nbformat_minor": 5
}
